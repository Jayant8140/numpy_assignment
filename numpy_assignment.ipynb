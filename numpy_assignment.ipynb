{
  "nbformat": 4,
  "nbformat_minor": 0,
  "metadata": {
    "colab": {
      "provenance": [],
      "authorship_tag": "ABX9TyPaOTXdoKyJ0lHg5WOBOHYU",
      "include_colab_link": true
    },
    "kernelspec": {
      "name": "python3",
      "display_name": "Python 3"
    },
    "language_info": {
      "name": "python"
    }
  },
  "cells": [
    {
      "cell_type": "markdown",
      "metadata": {
        "id": "view-in-github",
        "colab_type": "text"
      },
      "source": [
        "<a href=\"https://colab.research.google.com/github/Jayant8140/numpy_assignment/blob/main/numpy_assignment.ipynb\" target=\"_parent\"><img src=\"https://colab.research.google.com/assets/colab-badge.svg\" alt=\"Open In Colab\"/></a>"
      ]
    },
    {
      "cell_type": "code",
      "execution_count": null,
      "metadata": {
        "id": "86Q0MH5zU-wf"
      },
      "outputs": [],
      "source": [
        "import numpy as np"
      ]
    },
    {
      "cell_type": "markdown",
      "source": [
        "1. Create a NumPy array 'arr' of integers from 0 to 5 and print its data type."
      ],
      "metadata": {
        "id": "KAfb9SBNVmnx"
      }
    },
    {
      "cell_type": "code",
      "source": [
        "arr=np.arange(6)"
      ],
      "metadata": {
        "id": "TjXJ7o8hVA9H"
      },
      "execution_count": null,
      "outputs": []
    },
    {
      "cell_type": "code",
      "source": [
        "arr"
      ],
      "metadata": {
        "colab": {
          "base_uri": "https://localhost:8080/"
        },
        "id": "KNi8ZLdTVKvI",
        "outputId": "4d6ac434-e68c-46bb-f0b4-3929366a9198"
      },
      "execution_count": null,
      "outputs": [
        {
          "output_type": "execute_result",
          "data": {
            "text/plain": [
              "array([0, 1, 2, 3, 4, 5])"
            ]
          },
          "metadata": {},
          "execution_count": 6
        }
      ]
    },
    {
      "cell_type": "markdown",
      "source": [
        "Given a NumPy array 'arr', check if its data type is float64.\n",
        "arr = np.array([1.5, 2.6, 3.7])"
      ],
      "metadata": {
        "id": "wJFOIdrEVvsx"
      }
    },
    {
      "cell_type": "code",
      "source": [
        "arr = np.array([1.5, 2.6, 3.7])"
      ],
      "metadata": {
        "id": "lu7FqYhjVjyU"
      },
      "execution_count": null,
      "outputs": []
    },
    {
      "cell_type": "code",
      "source": [
        "arr.dtype"
      ],
      "metadata": {
        "colab": {
          "base_uri": "https://localhost:8080/"
        },
        "id": "wgLswyUGV6US",
        "outputId": "05fca00c-c679-4bcc-a4a8-a7a96d37e005"
      },
      "execution_count": null,
      "outputs": [
        {
          "output_type": "execute_result",
          "data": {
            "text/plain": [
              "dtype('float64')"
            ]
          },
          "metadata": {},
          "execution_count": 9
        }
      ]
    },
    {
      "cell_type": "markdown",
      "source": [
        " Create a NumPy array 'arr' with a data type of complex128 containing three complex numbers."
      ],
      "metadata": {
        "id": "RSORaGPTWEbE"
      }
    },
    {
      "cell_type": "code",
      "source": [
        "arr=np.array([1+2j,1+3j,1+4j],dtype=np.complex128)\n",
        "print(arr)\n",
        "print(arr.dtype)\n"
      ],
      "metadata": {
        "colab": {
          "base_uri": "https://localhost:8080/"
        },
        "id": "lCVO2nUmV8J6",
        "outputId": "c16cd406-f7d1-4d93-80a7-034881318bad"
      },
      "execution_count": null,
      "outputs": [
        {
          "output_type": "stream",
          "name": "stdout",
          "text": [
            "[1.+2.j 1.+3.j 1.+4.j]\n",
            "complex128\n"
          ]
        }
      ]
    },
    {
      "cell_type": "markdown",
      "source": [
        ". Convert an existing NumPy array 'arr' of integers to float32 data type."
      ],
      "metadata": {
        "id": "u-lgjOIMWhdE"
      }
    },
    {
      "cell_type": "code",
      "source": [
        "arr=np.array([1,2,3,4])"
      ],
      "metadata": {
        "id": "zAWzv-4oWeq_"
      },
      "execution_count": null,
      "outputs": []
    },
    {
      "cell_type": "code",
      "source": [
        "arr.dtype\n",
        "\n"
      ],
      "metadata": {
        "colab": {
          "base_uri": "https://localhost:8080/"
        },
        "id": "XzIOtWSvWmGl",
        "outputId": "f91cfce7-f392-4fa7-82fe-ecd84066e3d5"
      },
      "execution_count": null,
      "outputs": [
        {
          "output_type": "execute_result",
          "data": {
            "text/plain": [
              "dtype('int64')"
            ]
          },
          "metadata": {},
          "execution_count": 27
        }
      ]
    },
    {
      "cell_type": "code",
      "source": [
        "arr=arr.astype(np.float32)#rr.astype(np.float32) converts the data type of the array to float32 using the astype method.\n",
        "print(arr.dtype)"
      ],
      "metadata": {
        "colab": {
          "base_uri": "https://localhost:8080/"
        },
        "id": "-qi00s_jW56v",
        "outputId": "73ed5eff-c6ee-4923-afc2-655398ed1475"
      },
      "execution_count": null,
      "outputs": [
        {
          "output_type": "stream",
          "name": "stdout",
          "text": [
            "float32\n"
          ]
        }
      ]
    },
    {
      "cell_type": "markdown",
      "source": [
        " 5. Given a NumPy array 'arr' with float64 data type, convert it to float32 to reduce decimal precision."
      ],
      "metadata": {
        "id": "i2EVXD2eXEkE"
      }
    },
    {
      "cell_type": "code",
      "source": [
        "arr=np.array([1.23455,2.45678,4.56789],dtype=np.float64)\n",
        "arr=arr.astype(np.float32)\n",
        "print(arr)\n",
        "print(arr.dtype)"
      ],
      "metadata": {
        "colab": {
          "base_uri": "https://localhost:8080/"
        },
        "id": "fBUkLP3nWuyc",
        "outputId": "7c0d0f10-1a73-4441-cd28-9ae6009e651b"
      },
      "execution_count": null,
      "outputs": [
        {
          "output_type": "stream",
          "name": "stdout",
          "text": [
            "[1.23455 2.45678 4.56789]\n",
            "float32\n"
          ]
        }
      ]
    },
    {
      "cell_type": "markdown",
      "source": [
        "6. Write a function array_attributes that takes a NumPy array as input and returns its shape, size, and data type"
      ],
      "metadata": {
        "id": "aQJcICwYX153"
      }
    },
    {
      "cell_type": "code",
      "source": [
        "def array_attribute(arr):\n",
        "  return arr.shape,arr.size,arr.dtype\n"
      ],
      "metadata": {
        "id": "x3FdI4tSX5bC"
      },
      "execution_count": null,
      "outputs": []
    },
    {
      "cell_type": "code",
      "source": [
        "arr=np.array([1,2,3,4,4,5])\n",
        "shape,size,dtype=array_attribute(arr)\n",
        "print(\"shape\",shape)\n",
        "print(\"size\",size)\n",
        "print(\"dtype\",dtype)"
      ],
      "metadata": {
        "colab": {
          "base_uri": "https://localhost:8080/"
        },
        "id": "6m9MsmpLYtl1",
        "outputId": "44f8fe79-5737-4e4c-a921-b24c0ed3da31"
      },
      "execution_count": null,
      "outputs": [
        {
          "output_type": "stream",
          "name": "stdout",
          "text": [
            "shape (6,)\n",
            "size 6\n",
            "dtype int64\n"
          ]
        }
      ]
    },
    {
      "cell_type": "markdown",
      "source": [
        ". Create a function array_dimension that takes a NumPy array as input and returns its dimensionality."
      ],
      "metadata": {
        "id": "0lm5osxnZdMN"
      }
    },
    {
      "cell_type": "code",
      "source": [
        "def array_dimension(arr):\n",
        "  return arr.ndim"
      ],
      "metadata": {
        "id": "9lEWRbbCZBB9"
      },
      "execution_count": null,
      "outputs": []
    },
    {
      "cell_type": "code",
      "source": [
        "arr=np.array([[1,2,3,4,4,5]])\n",
        "dimension=array_dimension(arr)\n",
        "print(\"dimension\",dimension)\n",
        "\n"
      ],
      "metadata": {
        "colab": {
          "base_uri": "https://localhost:8080/"
        },
        "id": "gxkrRDAgZo7i",
        "outputId": "a3d97d0a-62b0-44df-c936-bfe9e73af9e3"
      },
      "execution_count": null,
      "outputs": [
        {
          "output_type": "stream",
          "name": "stdout",
          "text": [
            "dimension 2\n"
          ]
        }
      ]
    },
    {
      "cell_type": "markdown",
      "source": [
        "8. Design a function item_size_info that takes a NumPy array as input and returns the item size and the total\n",
        "size in bytes."
      ],
      "metadata": {
        "id": "1zTLASj8Zyhd"
      }
    },
    {
      "cell_type": "code",
      "source": [
        "def item_size_info(arr):\n",
        "  item_size=arr.itemsize\n",
        "  total_size=arr.nbytes\n",
        "  return item_size,total_size"
      ],
      "metadata": {
        "id": "dTykyxQXZujG"
      },
      "execution_count": null,
      "outputs": []
    },
    {
      "cell_type": "code",
      "source": [
        "arr=np.array([1,2,34,4,5,6])\n",
        "item_size,total_size=item_size_info(arr)\n",
        "print(\"item_size\",item_size)\n",
        "print(\"total_size\",total_size)"
      ],
      "metadata": {
        "colab": {
          "base_uri": "https://localhost:8080/"
        },
        "id": "bDGd9V8SaYgx",
        "outputId": "e1a747b6-d5c9-4e12-aacd-9f733288173d"
      },
      "execution_count": null,
      "outputs": [
        {
          "output_type": "stream",
          "name": "stdout",
          "text": [
            "item_size 8\n",
            "total_size 48\n"
          ]
        }
      ]
    },
    {
      "cell_type": "markdown",
      "source": [
        "9. Create a function array_strides that takes a NumPy array as input and returns the strides of the array."
      ],
      "metadata": {
        "id": "XXfybvsma8Yk"
      }
    },
    {
      "cell_type": "code",
      "source": [
        "def array_strides(arr):\n",
        "  return arr.strides"
      ],
      "metadata": {
        "id": "H2LzbQCuaf7v"
      },
      "execution_count": null,
      "outputs": []
    },
    {
      "cell_type": "code",
      "source": [
        "arr=np.array([[1,2,3,4],[5,6,7,8]])"
      ],
      "metadata": {
        "id": "7yK-upSFbJY7"
      },
      "execution_count": null,
      "outputs": []
    },
    {
      "cell_type": "code",
      "source": [
        "array_strides=array_strides(arr)\n",
        "print(array_strides)"
      ],
      "metadata": {
        "colab": {
          "base_uri": "https://localhost:8080/"
        },
        "id": "kHv7VehqbO8T",
        "outputId": "e40a6176-6725-4773-8fad-8e90e946d623"
      },
      "execution_count": null,
      "outputs": [
        {
          "output_type": "stream",
          "name": "stdout",
          "text": [
            "(32, 8)\n"
          ]
        }
      ]
    },
    {
      "cell_type": "markdown",
      "source": [
        " 10. Design a function shape_stride_relationship that takes a NumPy array as input and returns the shape\n",
        "and strides of the array"
      ],
      "metadata": {
        "id": "MG7qK4aXbkeo"
      }
    },
    {
      "cell_type": "code",
      "source": [
        "def shape_stride_relationship(arr):\n",
        "  return arr.shape,arr.strides"
      ],
      "metadata": {
        "id": "32shC7DVbaEx"
      },
      "execution_count": null,
      "outputs": []
    },
    {
      "cell_type": "code",
      "source": [
        "arr=np.array([[1,2,3,4],[5,6,7,8]])\n",
        "shape_stride_relationship(arr)"
      ],
      "metadata": {
        "colab": {
          "base_uri": "https://localhost:8080/"
        },
        "id": "lFbIoDyDb5a1",
        "outputId": "665c960a-213a-4fc9-8221-c5e04dd5e0ff"
      },
      "execution_count": null,
      "outputs": [
        {
          "output_type": "execute_result",
          "data": {
            "text/plain": [
              "((2, 4), (32, 8))"
            ]
          },
          "metadata": {},
          "execution_count": 40
        }
      ]
    },
    {
      "cell_type": "markdown",
      "source": [
        " 11. Create a function `create_zeros_array` that takes an integer `n` as input and returns a NumPy array of\n",
        "zeros with `n` elements"
      ],
      "metadata": {
        "id": "rksUrT7mcfpY"
      }
    },
    {
      "cell_type": "code",
      "source": [
        "def create_zeros_array(n):\n",
        "  return np.zeros(n)"
      ],
      "metadata": {
        "id": "8ly0HCwxcDgQ"
      },
      "execution_count": null,
      "outputs": []
    },
    {
      "cell_type": "code",
      "source": [
        "element=4\n",
        "create_zeros_array(element)"
      ],
      "metadata": {
        "colab": {
          "base_uri": "https://localhost:8080/"
        },
        "id": "jWUuvCBJc1o6",
        "outputId": "029cfb53-be15-4b10-fb6a-bf0825c30087"
      },
      "execution_count": null,
      "outputs": [
        {
          "output_type": "execute_result",
          "data": {
            "text/plain": [
              "array([0., 0., 0., 0.])"
            ]
          },
          "metadata": {},
          "execution_count": 44
        }
      ]
    },
    {
      "cell_type": "markdown",
      "source": [
        "12. Write a function `create_ones_matrix` that takes integers `rows` and `cols` as inputs and generates a 2D\n",
        "NumPy array filled with ones of size `rows x cols`"
      ],
      "metadata": {
        "id": "0oc-dfDhdFBW"
      }
    },
    {
      "cell_type": "code",
      "source": [
        "def create_ones_matrix(rows,column):\n",
        "  return np.ones((rows,column))"
      ],
      "metadata": {
        "id": "igQ0m-HgdBc2"
      },
      "execution_count": null,
      "outputs": []
    },
    {
      "cell_type": "code",
      "source": [
        "rows=3\n",
        "column=4\n",
        "create_ones_matrix(rows,column)"
      ],
      "metadata": {
        "colab": {
          "base_uri": "https://localhost:8080/"
        },
        "id": "-KFnUnQBduNF",
        "outputId": "79779c95-7376-4842-a446-ef53581b097b"
      },
      "execution_count": null,
      "outputs": [
        {
          "output_type": "execute_result",
          "data": {
            "text/plain": [
              "array([[1., 1., 1., 1.],\n",
              "       [1., 1., 1., 1.],\n",
              "       [1., 1., 1., 1.]])"
            ]
          },
          "metadata": {},
          "execution_count": 46
        }
      ]
    },
    {
      "cell_type": "markdown",
      "source": [
        " 13. Write a function `generate_range_array` that takes three integers start, stop, and step as arguments and\n",
        "creates a NumPy array with a range starting from `start`, ending at stop (exclusive), and with the specified\n",
        "`step`."
      ],
      "metadata": {
        "id": "Cjg9SjO8d1xy"
      }
    },
    {
      "cell_type": "code",
      "source": [
        "def generate_range_array(start,stop,step):\n",
        "  return np.arange(start,stop,step)"
      ],
      "metadata": {
        "id": "Arf1ypBmdzm8"
      },
      "execution_count": null,
      "outputs": []
    },
    {
      "cell_type": "code",
      "source": [
        "start=1\n",
        "stop=40\n",
        "step=6\n",
        "generate_range_array(start,stop,step)"
      ],
      "metadata": {
        "colab": {
          "base_uri": "https://localhost:8080/"
        },
        "id": "2u-kMMYQeUQv",
        "outputId": "cccb5150-1048-4e88-a650-91c86e5a4343"
      },
      "execution_count": null,
      "outputs": [
        {
          "output_type": "execute_result",
          "data": {
            "text/plain": [
              "array([ 1,  7, 13, 19, 25, 31, 37])"
            ]
          },
          "metadata": {},
          "execution_count": 48
        }
      ]
    },
    {
      "cell_type": "markdown",
      "source": [
        " 14. Design a function `generate_linear_space` that takes two floats `start`, `stop`, and an integer `num` as\n",
        "arguments and generates a NumPy array with num equally spaced values between `start` and `stop`\n",
        "(inclusive)"
      ],
      "metadata": {
        "id": "DOVR0oEzedq-"
      }
    },
    {
      "cell_type": "code",
      "source": [
        "def generate_linear_space(start,stop,num):\n",
        "  return np.linspace(start,stop,num)"
      ],
      "metadata": {
        "id": "Aw4yIydTeZ3P"
      },
      "execution_count": null,
      "outputs": []
    },
    {
      "cell_type": "code",
      "source": [
        "start=1\n",
        "stop=10\n",
        "num=5\n",
        "generate_linear_space(start,stop,num)"
      ],
      "metadata": {
        "colab": {
          "base_uri": "https://localhost:8080/"
        },
        "id": "STalmTdYe-mb",
        "outputId": "2ec61352-ee4e-4fca-84e1-7fff592a919d"
      },
      "execution_count": null,
      "outputs": [
        {
          "output_type": "execute_result",
          "data": {
            "text/plain": [
              "array([ 1.  ,  3.25,  5.5 ,  7.75, 10.  ])"
            ]
          },
          "metadata": {},
          "execution_count": 50
        }
      ]
    },
    {
      "cell_type": "markdown",
      "source": [
        " 15. Create a function `create_identity_matrix` that takes an integer `n` as input and generates a square\n",
        "identity matrix of size `n x n` using `numpy.eye`"
      ],
      "metadata": {
        "id": "gmHKFOYkfeTF"
      }
    },
    {
      "cell_type": "code",
      "source": [
        "def create_identity_matrix(n):\n",
        "  return np.eye(n)"
      ],
      "metadata": {
        "id": "nr2gYCiXfFQj"
      },
      "execution_count": null,
      "outputs": []
    },
    {
      "cell_type": "code",
      "source": [
        "n=4\n",
        "create_identity_matrix(n)"
      ],
      "metadata": {
        "colab": {
          "base_uri": "https://localhost:8080/"
        },
        "id": "WsPFD_NDf34c",
        "outputId": "e8029508-d639-48ba-cde5-65eb2e3f21d4"
      },
      "execution_count": null,
      "outputs": [
        {
          "output_type": "execute_result",
          "data": {
            "text/plain": [
              "array([[1., 0., 0., 0.],\n",
              "       [0., 1., 0., 0.],\n",
              "       [0., 0., 1., 0.],\n",
              "       [0., 0., 0., 1.]])"
            ]
          },
          "metadata": {},
          "execution_count": 52
        }
      ]
    },
    {
      "cell_type": "markdown",
      "source": [
        " 16. Write a function that takes a Python list and converts it into a NumPy array."
      ],
      "metadata": {
        "id": "goqtzLPagDWT"
      }
    },
    {
      "cell_type": "code",
      "source": [
        "def my_first_list(list):\n",
        "  return np.array(list)"
      ],
      "metadata": {
        "id": "tVa6TOyrgB9q"
      },
      "execution_count": null,
      "outputs": []
    },
    {
      "cell_type": "code",
      "source": [
        "my_list=[1,2,34,5,6]\n",
        "my_first_list(my_list)"
      ],
      "metadata": {
        "colab": {
          "base_uri": "https://localhost:8080/"
        },
        "id": "43CZJ4ZfgPpX",
        "outputId": "05120d11-5a94-4ef5-9f9b-ba25c3eeb46d"
      },
      "execution_count": null,
      "outputs": [
        {
          "output_type": "execute_result",
          "data": {
            "text/plain": [
              "array([ 1,  2, 34,  5,  6])"
            ]
          },
          "metadata": {},
          "execution_count": 57
        }
      ]
    },
    {
      "cell_type": "markdown",
      "source": [
        " 17. Create a NumPy array and demonstrate the use of `numpy.view` to create a new array object with the\n",
        "same data"
      ],
      "metadata": {
        "id": "5FcnK83ygcVo"
      }
    },
    {
      "cell_type": "code",
      "source": [
        "original_data=np.array([1,2,3,4,5])\n",
        "view_array=original_data.view()\n",
        "view_array[0]=10\n",
        "print(original_data)\n",
        "print(view_array)"
      ],
      "metadata": {
        "colab": {
          "base_uri": "https://localhost:8080/"
        },
        "id": "HUz7KIuqgZZE",
        "outputId": "7347bfbc-5d07-4e04-9c11-52e8872b23ab"
      },
      "execution_count": null,
      "outputs": [
        {
          "output_type": "stream",
          "name": "stdout",
          "text": [
            "[10  2  3  4  5]\n",
            "[10  2  3  4  5]\n"
          ]
        }
      ]
    },
    {
      "cell_type": "markdown",
      "source": [
        "18. Write a function that takes two NumPy arrays and concatenates them along a specified axis."
      ],
      "metadata": {
        "id": "wUiiWubOh3J9"
      }
    },
    {
      "cell_type": "code",
      "source": [
        "def concatenate_array(arr1,arr2,axis=1):\n",
        "  return np.concatenate((arr1,arr2),axis=axis)"
      ],
      "metadata": {
        "id": "oBeUNMKGhxx1"
      },
      "execution_count": null,
      "outputs": []
    },
    {
      "cell_type": "code",
      "source": [
        "arr1=np.array([[1,2,3],[4,5,6]])\n",
        "arr2=np.array([[7,8,9],[10,11,12]])\n",
        "concatenate_array(arr1,arr2)"
      ],
      "metadata": {
        "colab": {
          "base_uri": "https://localhost:8080/"
        },
        "id": "FIleRCCUiSQW",
        "outputId": "c691f622-3a5b-4400-d34a-fa07f02308c8"
      },
      "execution_count": null,
      "outputs": [
        {
          "output_type": "execute_result",
          "data": {
            "text/plain": [
              "array([[ 1,  2,  3,  7,  8,  9],\n",
              "       [ 4,  5,  6, 10, 11, 12]])"
            ]
          },
          "metadata": {},
          "execution_count": 65
        }
      ]
    },
    {
      "cell_type": "code",
      "source": [
        "def concatenate_array(arr1,arr2,axis=0):\n",
        "  return np.concatenate((arr1,arr2),axis=axis)"
      ],
      "metadata": {
        "id": "Vx-_jyEWiTzA"
      },
      "execution_count": null,
      "outputs": []
    },
    {
      "cell_type": "code",
      "source": [
        "arr1=np.array([[1,2,3],[4,5,6]])\n",
        "arr2=np.array([[7,8,9],[10,11,12]])\n",
        "concatenate_array(arr1,arr2)"
      ],
      "metadata": {
        "colab": {
          "base_uri": "https://localhost:8080/"
        },
        "id": "47OCWIuPiX7d",
        "outputId": "dbf5a408-58fb-49ba-96d5-712a806e6644"
      },
      "execution_count": null,
      "outputs": [
        {
          "output_type": "execute_result",
          "data": {
            "text/plain": [
              "array([[ 1,  2,  3],\n",
              "       [ 4,  5,  6],\n",
              "       [ 7,  8,  9],\n",
              "       [10, 11, 12]])"
            ]
          },
          "metadata": {},
          "execution_count": 68
        }
      ]
    },
    {
      "cell_type": "markdown",
      "source": [
        " 19.  Create two NumPy arrays with different shapes and concatenate them horizontally using `numpy.\n",
        " concatenate`"
      ],
      "metadata": {
        "id": "-sb5nIx-ilNM"
      }
    },
    {
      "cell_type": "code",
      "source": [
        "array1=np.array([1,2,3,4])\n",
        "array2=np.array([[1,2,3,4],[5,6,7,8]])\n",
        "array1_reshaped=array1.reshape(2,2)\n",
        "np.concatenate((array1_reshaped,array2),axis=1)"
      ],
      "metadata": {
        "colab": {
          "base_uri": "https://localhost:8080/"
        },
        "id": "vygVR2OUiZBo",
        "outputId": "bbd0e4d2-6af9-4f14-9d53-df53bb2e036b"
      },
      "execution_count": null,
      "outputs": [
        {
          "output_type": "execute_result",
          "data": {
            "text/plain": [
              "array([[1, 2, 1, 2, 3, 4],\n",
              "       [3, 4, 5, 6, 7, 8]])"
            ]
          },
          "metadata": {},
          "execution_count": 69
        }
      ]
    },
    {
      "cell_type": "code",
      "source": [
        "array1=np.array([1,2,3,4])\n",
        "array1_reshaped=array1.reshape(2,2)\n",
        "print(array1_reshaped)\n"
      ],
      "metadata": {
        "colab": {
          "base_uri": "https://localhost:8080/"
        },
        "id": "JQhunS7Hj3TA",
        "outputId": "d75f69be-18cd-4771-dcc6-1de72c796d01"
      },
      "execution_count": null,
      "outputs": [
        {
          "output_type": "stream",
          "name": "stdout",
          "text": [
            "[[1 2]\n",
            " [3 4]]\n"
          ]
        }
      ]
    },
    {
      "cell_type": "markdown",
      "source": [
        " 20. Write a function that vertically stacks multiple NumPy arrays given as a list"
      ],
      "metadata": {
        "id": "RzAnK1MukeU2"
      }
    },
    {
      "cell_type": "code",
      "source": [
        "def vertical_stack(arr_list):\n",
        "  return np.vstack(arr_list)"
      ],
      "metadata": {
        "id": "bwdClJmTkEuo"
      },
      "execution_count": null,
      "outputs": []
    },
    {
      "cell_type": "code",
      "source": [
        "arra1=np.array([1,2,3,4])\n",
        "array2=np.array([2,3,45,6])\n",
        "arr_list=[arra1,array2]\n",
        "vertical_stack(arr_list)"
      ],
      "metadata": {
        "colab": {
          "base_uri": "https://localhost:8080/"
        },
        "id": "NEtSc9VwkuVy",
        "outputId": "a9363e6c-c585-48ac-ee1e-f7945ade0af2"
      },
      "execution_count": null,
      "outputs": [
        {
          "output_type": "execute_result",
          "data": {
            "text/plain": [
              "array([[ 1,  2,  3,  4],\n",
              "       [ 2,  3, 45,  6]])"
            ]
          },
          "metadata": {},
          "execution_count": 73
        }
      ]
    },
    {
      "cell_type": "markdown",
      "source": [
        " 21. Write a Python function using NumPy to create an array of integers within a specified range (inclusive)\n",
        "with a given step size"
      ],
      "metadata": {
        "id": "2Vp27Zw0OXjw"
      }
    },
    {
      "cell_type": "code",
      "source": [
        "import numpy as np\n",
        "def inclusive_arange(start,stop,step=2):\n",
        "  num=int((stop-start)/step)+1\n",
        "  arr=np.linspace(start,stop,num,dtype=int)\n",
        "  return arr"
      ],
      "metadata": {
        "id": "xiNzj72Rk1yJ"
      },
      "execution_count": null,
      "outputs": []
    },
    {
      "cell_type": "code",
      "source": [
        "arr=inclusive_arange(1,10)\n",
        "\n",
        "print(arr)"
      ],
      "metadata": {
        "colab": {
          "base_uri": "https://localhost:8080/"
        },
        "id": "2er1rJlzQ3dQ",
        "outputId": "3f3d477b-5384-4683-d463-f49d12a17327"
      },
      "execution_count": null,
      "outputs": [
        {
          "output_type": "stream",
          "name": "stdout",
          "text": [
            "[ 1  3  5  7 10]\n"
          ]
        }
      ]
    },
    {
      "cell_type": "markdown",
      "source": [
        " 22. Write a Python function using NumPy to generate an array of 10 equally spaced values between 0 and 1\n",
        "(inclusive)"
      ],
      "metadata": {
        "id": "z1_jWlsbUVoX"
      }
    },
    {
      "cell_type": "code",
      "source": [
        "def generate_spaced_value(num_value=10):\n",
        "  return np.linspace(0,1,num_value)"
      ],
      "metadata": {
        "id": "1bVP5jFzQ-Rg"
      },
      "execution_count": null,
      "outputs": []
    },
    {
      "cell_type": "code",
      "source": [
        "generate_spaced_value(num_value=10)"
      ],
      "metadata": {
        "colab": {
          "base_uri": "https://localhost:8080/"
        },
        "id": "QVEM6jJ2VE8g",
        "outputId": "d4479a06-9393-4687-98eb-2bcbf7698d71"
      },
      "execution_count": null,
      "outputs": [
        {
          "output_type": "execute_result",
          "data": {
            "text/plain": [
              "array([0.        , 0.11111111, 0.22222222, 0.33333333, 0.44444444,\n",
              "       0.55555556, 0.66666667, 0.77777778, 0.88888889, 1.        ])"
            ]
          },
          "metadata": {},
          "execution_count": 10
        }
      ]
    },
    {
      "cell_type": "markdown",
      "source": [
        " 23. Write a Python function using NumPy to create an array of 5 logarithmically spaced values between 1 and\n",
        "1000 (inclusive)"
      ],
      "metadata": {
        "id": "hi11KLF-mlC-"
      }
    },
    {
      "cell_type": "code",
      "source": [
        "import numpy as np\n",
        "def log_values(start,stop,num):\n",
        "  return np.logspace(np.log10(start),np.log10(stop),num)"
      ],
      "metadata": {
        "id": "ajBhKXI4YEtC"
      },
      "execution_count": null,
      "outputs": []
    },
    {
      "cell_type": "code",
      "source": [
        "start=1\n",
        "stop=100\n",
        "num=5\n",
        "log_value=log_values(start,stop,num)\n",
        "print(log_value)"
      ],
      "metadata": {
        "colab": {
          "base_uri": "https://localhost:8080/"
        },
        "id": "guFWpCy4PEdZ",
        "outputId": "90db7706-b962-4f80-bc9d-817e94868eb0"
      },
      "execution_count": null,
      "outputs": [
        {
          "output_type": "stream",
          "name": "stdout",
          "text": [
            "[  1.           3.16227766  10.          31.6227766  100.        ]\n"
          ]
        }
      ]
    },
    {
      "cell_type": "markdown",
      "source": [
        "24. Create a Pandas DataFrame using a NumPy array that contains 5 rows and 3 columns, where the values\n",
        "are random integers between 1 and 100"
      ],
      "metadata": {
        "id": "JTP2T0yBPtBR"
      }
    },
    {
      "cell_type": "code",
      "source": [
        "import pandas as pd"
      ],
      "metadata": {
        "id": "tE_Ds4BnPSAe"
      },
      "execution_count": null,
      "outputs": []
    },
    {
      "cell_type": "code",
      "source": [
        "data=np.random.randint(1,101,size=(5,3))\n",
        "df=pd.DataFrame(data,columns=['a','b','c'])\n",
        "print(df)"
      ],
      "metadata": {
        "colab": {
          "base_uri": "https://localhost:8080/"
        },
        "id": "1U2BniEwPxf2",
        "outputId": "a2a9b41d-e30a-4435-920a-18a1442c73d6"
      },
      "execution_count": null,
      "outputs": [
        {
          "output_type": "stream",
          "name": "stdout",
          "text": [
            "    a   b   c\n",
            "0  77  49  28\n",
            "1  96   3   4\n",
            "2  31  46  31\n",
            "3  73  92  67\n",
            "4  53  41  88\n"
          ]
        }
      ]
    },
    {
      "cell_type": "markdown",
      "source": [
        "25. Write a function that takes a Pandas DataFrame and replaces all negative values in a specific column\n",
        "with zeros. Use NumPy operations within the Pandas DataFrame"
      ],
      "metadata": {
        "id": "NFTiHfjJQOCP"
      }
    },
    {
      "cell_type": "code",
      "source": [
        "def replace_negative_no(df,column_name):\n",
        "   df[column_name]=np.where(df[column_name]<0,0,df[column_name])\n",
        "   return df\n"
      ],
      "metadata": {
        "id": "YDKFb-pPQLfe"
      },
      "execution_count": null,
      "outputs": []
    },
    {
      "cell_type": "code",
      "source": [
        "data= {'a':[1,2,3,4,5],'b':[-5,-6,-7,-8,9]}\n",
        "df=pd.DataFrame(data)\n",
        "\n",
        "replace_negative_no(df,'b')\n",
        "print(df)"
      ],
      "metadata": {
        "colab": {
          "base_uri": "https://localhost:8080/"
        },
        "id": "9aFvBVsLRxTU",
        "outputId": "872e8b32-0cda-4772-fa47-c89ff149475f"
      },
      "execution_count": null,
      "outputs": [
        {
          "output_type": "stream",
          "name": "stdout",
          "text": [
            "   a  b\n",
            "0  1  0\n",
            "1  2  0\n",
            "2  3  0\n",
            "3  4  0\n",
            "4  5  9\n"
          ]
        }
      ]
    },
    {
      "cell_type": "markdown",
      "source": [
        "26. Access the 3rd element from the given NumPy array.\n",
        " arr = np.array([10, 20, 30, 40, 50])"
      ],
      "metadata": {
        "id": "vISw4ThVSfwv"
      }
    },
    {
      "cell_type": "code",
      "source": [
        "arr = np.array([10, 20, 30, 40, 50])\n",
        "arr[2]"
      ],
      "metadata": {
        "colab": {
          "base_uri": "https://localhost:8080/"
        },
        "id": "GcsWajCESHNc",
        "outputId": "6ed00222-60f8-4137-85ea-e81c8eaa6bce"
      },
      "execution_count": null,
      "outputs": [
        {
          "output_type": "execute_result",
          "data": {
            "text/plain": [
              "30"
            ]
          },
          "metadata": {},
          "execution_count": 16
        }
      ]
    },
    {
      "cell_type": "markdown",
      "source": [
        " 27. Retrieve the element at index (1, 2) from the 2D NumPy array.\n",
        " arr_2d = np.array([[1, 2, 3],\n",
        " [4, 5, 6],\n",
        " [7, 8, 9]])"
      ],
      "metadata": {
        "id": "2YOknbm5SwMh"
      }
    },
    {
      "cell_type": "code",
      "source": [
        "arr_2d = np.array([[1, 2, 3], [4, 5, 6], [7, 8, 9]])"
      ],
      "metadata": {
        "id": "1qkxm1jASoL5"
      },
      "execution_count": null,
      "outputs": []
    },
    {
      "cell_type": "code",
      "source": [
        "arr_2d"
      ],
      "metadata": {
        "colab": {
          "base_uri": "https://localhost:8080/"
        },
        "id": "a0HGLGYKS33x",
        "outputId": "f546a6c6-0189-4535-d013-02ebb106fada"
      },
      "execution_count": null,
      "outputs": [
        {
          "output_type": "execute_result",
          "data": {
            "text/plain": [
              "array([[1, 2, 3],\n",
              "       [4, 5, 6],\n",
              "       [7, 8, 9]])"
            ]
          },
          "metadata": {},
          "execution_count": 19
        }
      ]
    },
    {
      "cell_type": "code",
      "source": [
        "arr_2d[1,2]"
      ],
      "metadata": {
        "colab": {
          "base_uri": "https://localhost:8080/"
        },
        "id": "D410xttGS5sQ",
        "outputId": "48a065fa-1f25-4fd3-cff3-c6a2646e5b5a"
      },
      "execution_count": null,
      "outputs": [
        {
          "output_type": "execute_result",
          "data": {
            "text/plain": [
              "6"
            ]
          },
          "metadata": {},
          "execution_count": 20
        }
      ]
    },
    {
      "cell_type": "markdown",
      "source": [
        "28. Using boolean indexing, extract elements greater than 5 from the given NumPy array.\n",
        " arr = np.array([3, 8, 2, 10, 5, 7])"
      ],
      "metadata": {
        "id": "_5tXQcC3TJ2S"
      }
    },
    {
      "cell_type": "code",
      "source": [
        "arr = np.array([3, 8, 2, 10, 5, 7])"
      ],
      "metadata": {
        "id": "sxsRwtgyTInc"
      },
      "execution_count": null,
      "outputs": []
    },
    {
      "cell_type": "code",
      "source": [
        "greater_no=arr[arr>5]\n",
        "print(greater_no)"
      ],
      "metadata": {
        "colab": {
          "base_uri": "https://localhost:8080/"
        },
        "id": "l9nqY2uDTQXd",
        "outputId": "50dba51f-e65c-40a5-9c8d-10601c4661c3"
      },
      "execution_count": null,
      "outputs": [
        {
          "output_type": "stream",
          "name": "stdout",
          "text": [
            "[ 8 10  7]\n"
          ]
        }
      ]
    },
    {
      "cell_type": "markdown",
      "source": [
        " 29. Perform basic slicing to extract elements from index 2 to 5 (inclusive) from the given NumPy array.\n",
        " arr = np.array([1, 2, 3, 4, 5, 6, 7, 8, 9])"
      ],
      "metadata": {
        "id": "xCgcppdLTrtv"
      }
    },
    {
      "cell_type": "code",
      "source": [
        "arr = np.array([1, 2, 3, 4, 5, 6, 7, 8, 9])\n",
        "extract_element=arr[2:6]\n",
        "print(extract_element)\n"
      ],
      "metadata": {
        "colab": {
          "base_uri": "https://localhost:8080/"
        },
        "id": "qa9E0FwpTp3o",
        "outputId": "ff0ac4ba-16f6-4edf-d349-16eb50bf2dde"
      },
      "execution_count": null,
      "outputs": [
        {
          "output_type": "stream",
          "name": "stdout",
          "text": [
            "[3 4 5 6]\n"
          ]
        }
      ]
    },
    {
      "cell_type": "markdown",
      "source": [
        " 30. Slice the 2D NumPy array to extract the sub-array `[[2, 3], [5, 6]]` from the given array.\n",
        " arr_2d = np.array([[1, 2, 3],\n",
        " [4, 5, 6],\n",
        " [7, 8, 9]])\n"
      ],
      "metadata": {
        "id": "-HJP4WnWUOPl"
      }
    },
    {
      "cell_type": "code",
      "source": [
        "arr_2d = np.array([[1, 2, 3], [4, 5, 6], [7, 8, 9]])"
      ],
      "metadata": {
        "id": "HuP5m6BiUFHF"
      },
      "execution_count": null,
      "outputs": []
    },
    {
      "cell_type": "code",
      "source": [
        "arr_2d"
      ],
      "metadata": {
        "colab": {
          "base_uri": "https://localhost:8080/"
        },
        "id": "AK-ncSN1UaGE",
        "outputId": "5f677e03-31c9-4fea-ef99-1004bf00c3a0"
      },
      "execution_count": null,
      "outputs": [
        {
          "output_type": "execute_result",
          "data": {
            "text/plain": [
              "array([[1, 2, 3],\n",
              "       [4, 5, 6],\n",
              "       [7, 8, 9]])"
            ]
          },
          "metadata": {},
          "execution_count": 27
        }
      ]
    },
    {
      "cell_type": "code",
      "source": [
        "sub_array=arr_2d[0:2,1:3]"
      ],
      "metadata": {
        "id": "RvGf-NOPUbC2"
      },
      "execution_count": null,
      "outputs": []
    },
    {
      "cell_type": "code",
      "source": [
        "sub_array"
      ],
      "metadata": {
        "colab": {
          "base_uri": "https://localhost:8080/"
        },
        "id": "Fu0QS1LiUxXj",
        "outputId": "f7f3d963-01ab-4a74-8583-31b047500771"
      },
      "execution_count": null,
      "outputs": [
        {
          "output_type": "execute_result",
          "data": {
            "text/plain": [
              "array([[2, 3],\n",
              "       [5, 6]])"
            ]
          },
          "metadata": {},
          "execution_count": 50
        }
      ]
    },
    {
      "cell_type": "markdown",
      "source": [
        "31.Write a NumPy function to extract elements in specific order from a given 2D array based on indices\n",
        "provided in another array."
      ],
      "metadata": {
        "id": "UMeh-bvOVcIm"
      }
    },
    {
      "cell_type": "code",
      "source": [
        "def extract_element_by_indices(arr_2d,indices):\n",
        "  rows=indices[:,0]\n",
        "  columns=indices[:,1]\n",
        "  return arr_2d[rows,columns]\n"
      ],
      "metadata": {
        "id": "_c5WX7YXUyqU"
      },
      "execution_count": null,
      "outputs": []
    },
    {
      "cell_type": "code",
      "source": [
        "arr_2d = np.array([[1, 2, 3],\n",
        "                   [4, 5, 6],\n",
        "                   [7, 8, 9]])"
      ],
      "metadata": {
        "id": "MbZ6CM3ecdDG"
      },
      "execution_count": null,
      "outputs": []
    },
    {
      "cell_type": "code",
      "source": [
        "indices=np.array([[0,1],[2,0],[1,2]])\n",
        "extract_element=extract_element_by_indices(arr_2d,indices)\n",
        "print(extract_element)"
      ],
      "metadata": {
        "colab": {
          "base_uri": "https://localhost:8080/"
        },
        "id": "riSZ5Ha5ch8Y",
        "outputId": "682b7d80-ba95-4662-919a-2c4bfc634928"
      },
      "execution_count": null,
      "outputs": [
        {
          "output_type": "stream",
          "name": "stdout",
          "text": [
            "[2 7 6]\n"
          ]
        }
      ]
    },
    {
      "cell_type": "markdown",
      "source": [
        "32. Create a NumPy function that filters elements greater than a threshold from a given 1D array using\n",
        "boolean indexing."
      ],
      "metadata": {
        "id": "Z3FyzJmHcyph"
      }
    },
    {
      "cell_type": "code",
      "source": [
        "def filter_threshold(arr,threshold):\n",
        "  mask=arr>threshold\n",
        "  filter_no=arr[mask]\n",
        "  return filter_no"
      ],
      "metadata": {
        "id": "eN7ywqh4cxQe"
      },
      "execution_count": null,
      "outputs": []
    },
    {
      "cell_type": "code",
      "source": [
        "arr=np.array([1,2,3,4,5,6,7,8,9])\n",
        "threshold=5\n",
        "filter=filter_threshold(arr,threshold)\n",
        "print(filter)"
      ],
      "metadata": {
        "colab": {
          "base_uri": "https://localhost:8080/"
        },
        "id": "HluCbSc8dUMW",
        "outputId": "7757f1b3-b6a0-46db-e9a6-6b9f184d67de"
      },
      "execution_count": null,
      "outputs": [
        {
          "output_type": "stream",
          "name": "stdout",
          "text": [
            "[6 7 8 9]\n"
          ]
        }
      ]
    },
    {
      "cell_type": "markdown",
      "source": [
        "33. Develop a NumPy function that extracts specific elements from a 3D array using indices provided in three\n",
        "separate arrays for each dimension\n"
      ],
      "metadata": {
        "id": "8ZsgFq0neOTY"
      }
    },
    {
      "cell_type": "code",
      "source": [
        "def extract_element(arr3d,indices_x,indices_y,indices_z):\n",
        "  return arr3d[indices_x,indices_y,indices_z]"
      ],
      "metadata": {
        "id": "JHhfhKMydbyi"
      },
      "execution_count": null,
      "outputs": []
    },
    {
      "cell_type": "code",
      "source": [
        "\n",
        "arr_3d = np.array([[[1, 2, 3], [4, 5, 6]],\n",
        "                   [[7, 8, 9], [10, 11, 12]]])"
      ],
      "metadata": {
        "id": "duk0XtEWfn-z"
      },
      "execution_count": null,
      "outputs": []
    },
    {
      "cell_type": "code",
      "source": [
        "arr_3d"
      ],
      "metadata": {
        "colab": {
          "base_uri": "https://localhost:8080/"
        },
        "id": "4iYYuiTwfugG",
        "outputId": "316bb70b-efdf-4e45-f3bd-805be981f138"
      },
      "execution_count": null,
      "outputs": [
        {
          "output_type": "execute_result",
          "data": {
            "text/plain": [
              "array([[[ 1,  2,  3],\n",
              "        [ 4,  5,  6]],\n",
              "\n",
              "       [[ 7,  8,  9],\n",
              "        [10, 11, 12]]])"
            ]
          },
          "metadata": {},
          "execution_count": 68
        }
      ]
    },
    {
      "cell_type": "code",
      "source": [
        "indices_x=([0,1])\n",
        "indices_y=([1,0])\n",
        "indices_z=([2,1])\n",
        "extract=extract_element(arr_3d,indices_x,indices_y,indices_z)\n",
        "print(extract)"
      ],
      "metadata": {
        "colab": {
          "base_uri": "https://localhost:8080/"
        },
        "id": "f7y8Cg6vfvR9",
        "outputId": "3993155c-2ef7-456f-dd8d-3a53f88998fa"
      },
      "execution_count": null,
      "outputs": [
        {
          "output_type": "stream",
          "name": "stdout",
          "text": [
            "[6 8]\n"
          ]
        }
      ]
    },
    {
      "cell_type": "markdown",
      "source": [
        "\n",
        "34. Write a NumPy function that returns elements from an array where both two conditions are satisfied\n",
        "using boolean indexing\n"
      ],
      "metadata": {
        "id": "-a9vxMklhXwD"
      }
    },
    {
      "cell_type": "code",
      "source": [
        "def filter_two_condition(arr,condition1,condition2):\n",
        "  combined_condition=np.logical_and(condition1,condition2)#logical and operation check if both True\n",
        "  filtered_array=arr[combined_condition]\n",
        "  return filtered_array"
      ],
      "metadata": {
        "id": "AQx0oS6fgI1h"
      },
      "execution_count": null,
      "outputs": []
    },
    {
      "cell_type": "code",
      "source": [
        "arr=np.array([1,2,3,4,5,6,7,8])\n",
        "condition1=arr>4\n",
        "condition2=arr%2==0\n",
        "filter=filter_two_condition(arr,condition1,condition2)\n",
        "print(filter)"
      ],
      "metadata": {
        "colab": {
          "base_uri": "https://localhost:8080/"
        },
        "id": "wQNsej6ziLHR",
        "outputId": "cacb037c-9f0e-41ae-8de8-1527dfb8f1be"
      },
      "execution_count": null,
      "outputs": [
        {
          "output_type": "stream",
          "name": "stdout",
          "text": [
            "[6 8]\n"
          ]
        }
      ]
    },
    {
      "cell_type": "markdown",
      "source": [
        "35. Create a NumPy function that extracts elements from a 2D array using row and column indices provided\n",
        "in separate arrays."
      ],
      "metadata": {
        "id": "9-FbHzkHip7c"
      }
    },
    {
      "cell_type": "code",
      "source": [
        "import numpy as np"
      ],
      "metadata": {
        "id": "d-J0yGYDkdZu"
      },
      "execution_count": null,
      "outputs": []
    },
    {
      "cell_type": "code",
      "source": [
        "def extract_element1(arr,row_indices,column_indices):\n",
        "  return arr[row_indices,column_indices]"
      ],
      "metadata": {
        "id": "DR4sK5l1md92"
      },
      "execution_count": null,
      "outputs": []
    },
    {
      "cell_type": "code",
      "source": [
        "\n",
        "arr_2d = np.array([[1, 11, 3],\n",
        "                   [70, 78, 56],\n",
        "                   [7, 89, 90]])"
      ],
      "metadata": {
        "id": "nRtG1_WXmkbL"
      },
      "execution_count": null,
      "outputs": []
    },
    {
      "cell_type": "code",
      "source": [
        "row_indices=np.array([0,2,1])\n",
        "column_indices=np.array([1,0,2])\n",
        "extract=extract_element1(arr_2d,row_indices,column_indices)\n",
        "print(extract)"
      ],
      "metadata": {
        "colab": {
          "base_uri": "https://localhost:8080/"
        },
        "id": "tweXOq5nmm74",
        "outputId": "c52a4b53-f6e0-4b7e-a2a7-c5d7f6f75e01"
      },
      "execution_count": null,
      "outputs": [
        {
          "output_type": "stream",
          "name": "stdout",
          "text": [
            "[11  7 56]\n"
          ]
        }
      ]
    },
    {
      "cell_type": "markdown",
      "source": [
        " 36. Given an array arr of shape (3, 3), add a scalar value of 5 to each element using NumPy broadcasting."
      ],
      "metadata": {
        "id": "Zgx37GKDnGGk"
      }
    },
    {
      "cell_type": "code",
      "source": [
        "arr=np.array([[1,2,3],[5,6,7],[7,8,9]])\n",
        "result=arr+5\n",
        "print(result)"
      ],
      "metadata": {
        "colab": {
          "base_uri": "https://localhost:8080/"
        },
        "id": "ZTM5nQlZnNCj",
        "outputId": "24b4a84b-8dcf-4675-f3b1-4525f3d00934"
      },
      "execution_count": null,
      "outputs": [
        {
          "output_type": "stream",
          "name": "stdout",
          "text": [
            "[[ 6  7  8]\n",
            " [10 11 12]\n",
            " [12 13 14]]\n"
          ]
        }
      ]
    },
    {
      "cell_type": "markdown",
      "source": [
        "37. Consider two arrays arr1 of shape (1, 3) and arr2 of shape (3, 4). Multiply each row of arr2 by the\n",
        "corresponding element in arr1 using NumPy broadcasting."
      ],
      "metadata": {
        "id": "Lqe8EqeQnkPl"
      }
    },
    {
      "cell_type": "code",
      "source": [
        "arr1=np.array([1,2,3])\n",
        "arr2=np.array([[1,2,3],[4,5,6],[7,8,9]])\n",
        "result=arr1.reshape(3,1) * arr2\n",
        "print(result)"
      ],
      "metadata": {
        "colab": {
          "base_uri": "https://localhost:8080/"
        },
        "id": "ulMDLAeqngHs",
        "outputId": "879d4a0d-6ed8-40a0-de21-aa77467cf895"
      },
      "execution_count": null,
      "outputs": [
        {
          "output_type": "stream",
          "name": "stdout",
          "text": [
            "[[ 1  2  3]\n",
            " [ 8 10 12]\n",
            " [21 24 27]]\n"
          ]
        }
      ]
    },
    {
      "cell_type": "markdown",
      "source": [
        " 38. Given a 1D array arr1 of shape (1, 4) and a 2D array arr2 of shape (4, 3), add arr1 to each row of arr2 using\n",
        "NumPy broadcasting"
      ],
      "metadata": {
        "id": "PaNV25yuoeRZ"
      }
    },
    {
      "cell_type": "code",
      "source": [
        "arr1=np.array([1,2,3,4])\n",
        "arr2=([[1,2,3],[2,3,4],[4,5,6],[5,6,7]])\n",
        "result=arr1.reshape(4,1)+arr2\n",
        "print(result)"
      ],
      "metadata": {
        "colab": {
          "base_uri": "https://localhost:8080/"
        },
        "id": "99oc9HsMoIW7",
        "outputId": "da083151-64f3-4bf6-c858-0ad16df215c1"
      },
      "execution_count": null,
      "outputs": [
        {
          "output_type": "stream",
          "name": "stdout",
          "text": [
            "[[ 2  3  4]\n",
            " [ 4  5  6]\n",
            " [ 7  8  9]\n",
            " [ 9 10 11]]\n"
          ]
        }
      ]
    },
    {
      "cell_type": "markdown",
      "source": [
        " 39. Consider two arrays arr1 of shape (3, 1) and arr2 of shape (1, 3). Add these arrays using NumPy\n",
        "broadcasting"
      ],
      "metadata": {
        "id": "--6SEa6SrLX1"
      }
    },
    {
      "cell_type": "code",
      "source": [
        "arr1=np.array([[1],[2],[3]])\n",
        "arr2=np.array([1,2,3])\n",
        "result=arr1+arr2\n",
        "print(result)"
      ],
      "metadata": {
        "colab": {
          "base_uri": "https://localhost:8080/"
        },
        "id": "vDPoTMA8qnVy",
        "outputId": "557ad65e-f82b-4aed-e131-15a05d5201dc"
      },
      "execution_count": null,
      "outputs": [
        {
          "output_type": "stream",
          "name": "stdout",
          "text": [
            "[[2 3 4]\n",
            " [3 4 5]\n",
            " [4 5 6]]\n"
          ]
        }
      ]
    },
    {
      "cell_type": "markdown",
      "source": [
        " 40. Given arrays arr1 of shape (2, 3) and arr2 of shape (2, 2), perform multiplication using NumPy\n",
        "broadcasting. Handle the shape incompatibility."
      ],
      "metadata": {
        "id": "s9XAnuA7sJCZ"
      }
    },
    {
      "cell_type": "code",
      "source": [
        "arr1 = np.array([[1, 2, 3],\n",
        "                [4, 5, 6]])  # Shape (2, 3)\n",
        "arr2 = np.array([[7, 8],\n",
        "                [9, 10]])  # Shape (2, 2)\n",
        "\n",
        "\n",
        "result=arr1*arr2[:,:,np.newaxis]\n",
        "print(result)"
      ],
      "metadata": {
        "colab": {
          "base_uri": "https://localhost:8080/"
        },
        "id": "upELODBVrZSp",
        "outputId": "0a7b7de8-9f79-4a48-f54f-ca19720abcf9"
      },
      "execution_count": null,
      "outputs": [
        {
          "output_type": "stream",
          "name": "stdout",
          "text": [
            "[[[ 7 14 21]\n",
            "  [32 40 48]]\n",
            "\n",
            " [[ 9 18 27]\n",
            "  [40 50 60]]]\n"
          ]
        }
      ]
    },
    {
      "cell_type": "markdown",
      "source": [
        "41. Calculate column-wise mean for the given array:\n",
        " arr = np.array([[1, 2, 3], [4, 5, 6]])"
      ],
      "metadata": {
        "id": "2lbUS1X5YBaG"
      }
    },
    {
      "cell_type": "code",
      "source": [
        "import numpy as np\n",
        "arr = np.array([[1, 2, 3], [4, 5, 6]])"
      ],
      "metadata": {
        "id": "RNXa7IbIt2Kz"
      },
      "execution_count": null,
      "outputs": []
    },
    {
      "cell_type": "code",
      "source": [
        "np.mean(arr,axis=0)"
      ],
      "metadata": {
        "colab": {
          "base_uri": "https://localhost:8080/"
        },
        "id": "cGNHlea8YRLk",
        "outputId": "736ec004-7e1d-4ca9-c30e-9843329d9aef"
      },
      "execution_count": null,
      "outputs": [
        {
          "output_type": "execute_result",
          "data": {
            "text/plain": [
              "array([2.5, 3.5, 4.5])"
            ]
          },
          "metadata": {},
          "execution_count": 3
        }
      ]
    },
    {
      "cell_type": "markdown",
      "source": [
        " 42. Find maximum value in each row of the given array:\n",
        " arr = np.array([[1, 2, 3], [4, 5, 6]])"
      ],
      "metadata": {
        "id": "wK4DLpEzY0Z0"
      }
    },
    {
      "cell_type": "code",
      "source": [
        "arr = np.array([[1, 2, 3], [4, 5, 6]])\n",
        "np.max(arr,axis=1)"
      ],
      "metadata": {
        "colab": {
          "base_uri": "https://localhost:8080/"
        },
        "id": "oBd79GxCYeP2",
        "outputId": "a277ec06-a654-4cdb-c20a-a295640f55e3"
      },
      "execution_count": null,
      "outputs": [
        {
          "output_type": "execute_result",
          "data": {
            "text/plain": [
              "array([3, 6])"
            ]
          },
          "metadata": {},
          "execution_count": 5
        }
      ]
    },
    {
      "cell_type": "markdown",
      "source": [
        " 43. For the given array, find indices of maximum value in each column.\n",
        " arr = np.array([[1, 2, 3], [4, 5, 6]])"
      ],
      "metadata": {
        "id": "Yj9P72DCZDVh"
      }
    },
    {
      "cell_type": "code",
      "source": [
        "arr = np.array([[1, 2, 3], [4, 5, 6]]) #indicies = index at which the value is larger here [4,5,6] are at [1,1,1] index\n",
        "np.argmax(arr,axis=0)"
      ],
      "metadata": {
        "colab": {
          "base_uri": "https://localhost:8080/"
        },
        "id": "kpP_MZQBY8JT",
        "outputId": "5ff72189-1d84-4958-c01d-2a54a18ee787"
      },
      "execution_count": null,
      "outputs": [
        {
          "output_type": "execute_result",
          "data": {
            "text/plain": [
              "array([1, 1, 1])"
            ]
          },
          "metadata": {},
          "execution_count": 9
        }
      ]
    },
    {
      "cell_type": "markdown",
      "source": [
        "45. In the given array, check if all elements in each column are even.\n",
        " arr = np.array([[2, 4, 6], [3, 5, 7]])"
      ],
      "metadata": {
        "id": "rj7DT-BPfbyD"
      }
    },
    {
      "cell_type": "code",
      "source": [
        "arr = np.array([[2, 4, 6], [3, 5, 7]])\n",
        "np.all(arr%2==0,axis=0)"
      ],
      "metadata": {
        "colab": {
          "base_uri": "https://localhost:8080/"
        },
        "id": "ayefnsjaaP4Y",
        "outputId": "0a840b41-a4be-473f-8e17-8d660fe80d43"
      },
      "execution_count": null,
      "outputs": [
        {
          "output_type": "execute_result",
          "data": {
            "text/plain": [
              "array([False, False, False])"
            ]
          },
          "metadata": {},
          "execution_count": 12
        }
      ]
    },
    {
      "cell_type": "markdown",
      "source": [
        "46. Given a NumPy array arr, reshape it into a matrix of dimensions `m` rows and `n` columns. Return the\n",
        "reshaped matrix.\n",
        " original_array = np.array([1, 2, 3, 4, 5, 6])"
      ],
      "metadata": {
        "id": "IrALbfT_gYXv"
      }
    },
    {
      "cell_type": "code",
      "source": [
        "original_array = np.array([1, 2, 3, 4, 5, 6])\n",
        "m=3\n",
        "n=2\n",
        "reshaped_array=original_array.reshape(m,n)\n",
        "print(reshaped_array)"
      ],
      "metadata": {
        "colab": {
          "base_uri": "https://localhost:8080/"
        },
        "id": "F4MduoDVfxKv",
        "outputId": "f0b59d82-7a75-4b60-ab2d-e27ab8beb4e3"
      },
      "execution_count": null,
      "outputs": [
        {
          "output_type": "stream",
          "name": "stdout",
          "text": [
            "[[1 2]\n",
            " [3 4]\n",
            " [5 6]]\n"
          ]
        }
      ]
    },
    {
      "cell_type": "markdown",
      "source": [
        "47. Create a function that takes a matrix as input and returns the flattened array.\n",
        " input_matrix = np.array([[1, 2, 3], [4, 5, 6]])"
      ],
      "metadata": {
        "id": "N3y3zQ6_g5Zd"
      }
    },
    {
      "cell_type": "code",
      "source": [
        "def faltten_matrix(matrix):\n",
        "  return matrix.flatten()"
      ],
      "metadata": {
        "id": "bDzHlCjfgwCK"
      },
      "execution_count": null,
      "outputs": []
    },
    {
      "cell_type": "code",
      "source": [
        "input_matrix=np.array([[1, 2, 3], [4, 5, 6]])\n",
        "flatten_array=faltten_matrix(input_matrix)\n",
        "print(flatten_array)"
      ],
      "metadata": {
        "colab": {
          "base_uri": "https://localhost:8080/"
        },
        "id": "DFJN6coZhM2Y",
        "outputId": "c999aa8e-af76-47fe-bef1-2f2e52860430"
      },
      "execution_count": null,
      "outputs": [
        {
          "output_type": "stream",
          "name": "stdout",
          "text": [
            "[1 2 3 4 5 6]\n"
          ]
        }
      ]
    },
    {
      "cell_type": "markdown",
      "source": [
        " 48. Write a function that concatenates two given arrays along a specified axis.\n",
        " array1 = np.array([[1, 2], [3, 4]])\n",
        " array2 = np.array([[5, 6], [7, 8]])"
      ],
      "metadata": {
        "id": "uzQzcAYshesX"
      }
    },
    {
      "cell_type": "code",
      "source": [
        "def concatinate_array(array1,array2,axis=0):\n",
        "  return np.concatenate((array1,array2),axis=axis)"
      ],
      "metadata": {
        "id": "HA5_SxWihbD3"
      },
      "execution_count": null,
      "outputs": []
    },
    {
      "cell_type": "code",
      "source": [
        "array1 = np.array([[1, 2], [3, 4]])\n",
        "array2 = np.array([[5, 6], [7, 8]])\n",
        "concatinate_array(array1,array2,axis=1)"
      ],
      "metadata": {
        "colab": {
          "base_uri": "https://localhost:8080/"
        },
        "id": "5WZbhlOAhz42",
        "outputId": "0ecc4b11-8e1b-4dcd-f7e9-549cdcf54ab3"
      },
      "execution_count": null,
      "outputs": [
        {
          "output_type": "execute_result",
          "data": {
            "text/plain": [
              "array([[1, 2, 5, 6],\n",
              "       [3, 4, 7, 8]])"
            ]
          },
          "metadata": {},
          "execution_count": 23
        }
      ]
    },
    {
      "cell_type": "markdown",
      "source": [
        " 49. Create a function that splits an array into multiple sub-arrays along a specified axis.\n",
        " original_array = np.array([[1, 2, 3], [4, 5, 6], [7, 8, 9]]"
      ],
      "metadata": {
        "id": "UkbDGaFzltuK"
      }
    },
    {
      "cell_type": "code",
      "source": [
        "def spli_array(arr,num_splits,axis=0):\n",
        "  return np.split(arr,num_splits,axis=axis)"
      ],
      "metadata": {
        "id": "DXEhZiGAh8De"
      },
      "execution_count": null,
      "outputs": []
    },
    {
      "cell_type": "code",
      "source": [
        "original_array= np.array([[1, 2, 3], [4, 5, 6], [7, 8, 9]])"
      ],
      "metadata": {
        "id": "S9jRyIaImRG8"
      },
      "execution_count": null,
      "outputs": []
    },
    {
      "cell_type": "code",
      "source": [],
      "metadata": {
        "id": "pCQTcWZvmlTt"
      },
      "execution_count": null,
      "outputs": []
    },
    {
      "cell_type": "code",
      "source": [
        "horizontal=spli_array(original_array,3,axis=1)\n",
        "vertical=spli_array(original_array,3,axis=0)\n",
        "print(horizontal)\n",
        "print(vertical)"
      ],
      "metadata": {
        "colab": {
          "base_uri": "https://localhost:8080/"
        },
        "id": "OGnylVSkmUcB",
        "outputId": "8fd8acc7-e360-4230-a786-4744e1431b59"
      },
      "execution_count": null,
      "outputs": [
        {
          "output_type": "stream",
          "name": "stdout",
          "text": [
            "[array([[1],\n",
            "       [4],\n",
            "       [7]]), array([[2],\n",
            "       [5],\n",
            "       [8]]), array([[3],\n",
            "       [6],\n",
            "       [9]])]\n",
            "[array([[1, 2, 3]]), array([[4, 5, 6]]), array([[7, 8, 9]])]\n"
          ]
        }
      ]
    },
    {
      "cell_type": "markdown",
      "source": [
        " 50. Write a function that inserts and then deletes elements from a given array at specified indices.\n",
        " original_array = np.array([1, 2, 3, 4, 5])\n",
        " indices_to_insert = [2, 4]\n",
        " values_to_insert = [10, 11]\n",
        " indices_to_delete = [1, 3]"
      ],
      "metadata": {
        "id": "XRlpC00jm460"
      }
    },
    {
      "cell_type": "code",
      "source": [
        "original_array = np.array([1, 2, 3, 4, 5]) #(1,2,10,3,4,11,5)\n",
        "indices_to_insert = [2, 4]\n",
        "values_to_insert = [10, 11]\n",
        "indices_to_delete = [1, 3]\n",
        "def insert_delete_elements(arr,insert_array,insert_values,delete_values):\n",
        "  arr=np.insert(arr,insert_array,insert_values)\n",
        "  arr=np.delete(arr,delete_values)\n",
        "  return arr\n",
        "\n"
      ],
      "metadata": {
        "id": "N9kM48F4mdHn"
      },
      "execution_count": null,
      "outputs": []
    },
    {
      "cell_type": "code",
      "source": [
        "insert_delete_elements(original_array,indices_to_insert,values_to_insert,indices_to_delete)"
      ],
      "metadata": {
        "colab": {
          "base_uri": "https://localhost:8080/"
        },
        "id": "tdg5UUXbn3hU",
        "outputId": "a9e90648-bd4f-416b-931c-a355ec546428"
      },
      "execution_count": null,
      "outputs": [
        {
          "output_type": "execute_result",
          "data": {
            "text/plain": [
              "array([ 1, 10,  4, 11,  5])"
            ]
          },
          "metadata": {},
          "execution_count": 36
        }
      ]
    },
    {
      "cell_type": "markdown",
      "source": [
        " 51. Create a NumPy array `arr1` with random integers and another array `arr2` with integers from 1 to 10.\n",
        "Perform element-wise addition between `arr1` and `arr2`."
      ],
      "metadata": {
        "id": "o_RXd5tSqEw4"
      }
    },
    {
      "cell_type": "code",
      "source": [
        "arr1=np.random.randint(1,100,size=10)\n",
        "arr2=np.arange(1,11)\n",
        "print(arr1)\n",
        "print(arr2)"
      ],
      "metadata": {
        "colab": {
          "base_uri": "https://localhost:8080/"
        },
        "id": "EBixL5FvoMxL",
        "outputId": "47703c68-1c92-4625-e257-bf215b20a6a4"
      },
      "execution_count": null,
      "outputs": [
        {
          "output_type": "stream",
          "name": "stdout",
          "text": [
            "[66 99 23 47 54  8 14 52 48 44]\n",
            "[ 1  2  3  4  5  6  7  8  9 10]\n"
          ]
        }
      ]
    },
    {
      "cell_type": "code",
      "source": [
        "arr1+arr2"
      ],
      "metadata": {
        "colab": {
          "base_uri": "https://localhost:8080/"
        },
        "id": "SVkJQ8kqqf4R",
        "outputId": "a10b2316-e861-40a7-e6f1-bb5f5a787c0c"
      },
      "execution_count": null,
      "outputs": [
        {
          "output_type": "execute_result",
          "data": {
            "text/plain": [
              "array([ 67, 101,  26,  51,  59,  14,  21,  60,  57,  54])"
            ]
          },
          "metadata": {},
          "execution_count": 38
        }
      ]
    },
    {
      "cell_type": "markdown",
      "source": [
        "52. Generate a NumPy array `arr1` with sequential integers from 10 to 1 and another array `arr2` with integers\n",
        "from 1 to 10. Subtract `arr2` from `arr1` element-wise"
      ],
      "metadata": {
        "id": "zJvhDF-xqrVS"
      }
    },
    {
      "cell_type": "code",
      "source": [
        "import numpy as np\n",
        "arr1=np.arange(10,0,-1)\n",
        "arr2=np.arange(1,11)\n",
        "array=arr2-arr1\n",
        "print(array)"
      ],
      "metadata": {
        "id": "vhX5xahRqh49",
        "colab": {
          "base_uri": "https://localhost:8080/"
        },
        "outputId": "c7275af7-cd83-4c5a-ddc7-48620cef7276"
      },
      "execution_count": null,
      "outputs": [
        {
          "output_type": "stream",
          "name": "stdout",
          "text": [
            "[-9 -7 -5 -3 -1  1  3  5  7  9]\n"
          ]
        }
      ]
    },
    {
      "cell_type": "markdown",
      "source": [
        "53. Create a NumPy array `arr1` with random integers and another array `arr2` with integers from 1 to 5.\n",
        "Perform element-wise multiplication between `arr1` and `arr2`"
      ],
      "metadata": {
        "id": "lDJznmqRchBL"
      }
    },
    {
      "cell_type": "code",
      "source": [
        "arr1=np.random.randint(1,10,size=5)\n",
        "arr2=np.arange(1,6)\n",
        "multiple=arr1*arr2\n",
        "print(multiple)"
      ],
      "metadata": {
        "colab": {
          "base_uri": "https://localhost:8080/"
        },
        "id": "CtS_4pk7cVx8",
        "outputId": "053fd8f4-8afb-4c64-b45c-b7c458c9f377"
      },
      "execution_count": null,
      "outputs": [
        {
          "output_type": "stream",
          "name": "stdout",
          "text": [
            "[ 4  2 18 24 30]\n"
          ]
        }
      ]
    },
    {
      "cell_type": "markdown",
      "source": [
        "54. Generate a NumPy array `arr1` with even integers from 2 to 10 and another array `arr2` with integers from 1\n",
        "to 5. Perform element-wise division of `arr1` by `arr2`"
      ],
      "metadata": {
        "id": "EYpze_KDc-DC"
      }
    },
    {
      "cell_type": "code",
      "source": [
        "arr1=np.arange(2,11,2)\n",
        "arr2=np.arange(1,6)\n",
        "division=arr1/arr2\n",
        "print(division)"
      ],
      "metadata": {
        "colab": {
          "base_uri": "https://localhost:8080/"
        },
        "id": "BTFvhw1wc82a",
        "outputId": "539e6c69-8a24-4203-85fd-6cb85ba2ccef"
      },
      "execution_count": null,
      "outputs": [
        {
          "output_type": "stream",
          "name": "stdout",
          "text": [
            "[2. 2. 2. 2. 2.]\n"
          ]
        }
      ]
    },
    {
      "cell_type": "markdown",
      "source": [
        " 55. Create a NumPy array `arr1` with integers from 1 to 5 and another array `arr2` with the same numbers\n",
        "reversed. Calculate the exponentiation of `arr1` raised to the power of `arr2` element-wise"
      ],
      "metadata": {
        "id": "022N9FeTdmA1"
      }
    },
    {
      "cell_type": "code",
      "source": [
        "arr1=np.arange(1,6)\n",
        "arr2=arr1[::-1]\n",
        "expo=np.power(arr1,arr2)\n",
        "print(expo)"
      ],
      "metadata": {
        "colab": {
          "base_uri": "https://localhost:8080/"
        },
        "id": "rqjZTXh5dbGh",
        "outputId": "da520125-3892-4f56-d7f5-bbb5c3921ad0"
      },
      "execution_count": null,
      "outputs": [
        {
          "output_type": "stream",
          "name": "stdout",
          "text": [
            "[ 1 16 27 16  5]\n"
          ]
        }
      ]
    },
    {
      "cell_type": "markdown",
      "source": [
        " 56. Write a function that counts the occurrences of a specific substring within a NumPy array of strings.\n",
        " arr = np.array(['hello', 'world', 'hello', 'numpy', 'hello'])"
      ],
      "metadata": {
        "id": "vpxnp9GUet0y"
      }
    },
    {
      "cell_type": "code",
      "source": [
        "def count_substring(arr,substring):\n",
        "  return np.char.count(arr,substring).sum()"
      ],
      "metadata": {
        "id": "8IzAxBdYeb4E"
      },
      "execution_count": null,
      "outputs": []
    },
    {
      "cell_type": "code",
      "source": [
        "arr=np.array(['hello', 'world', 'hello', 'numpy', 'hello'])\n",
        "substring='hello'\n",
        "count_substring(arr,substring)"
      ],
      "metadata": {
        "colab": {
          "base_uri": "https://localhost:8080/"
        },
        "id": "OTy_REwLfNhU",
        "outputId": "da4adb53-3af6-4e70-a397-ff4bb3f8feae"
      },
      "execution_count": null,
      "outputs": [
        {
          "output_type": "execute_result",
          "data": {
            "text/plain": [
              "3"
            ]
          },
          "metadata": {},
          "execution_count": 10
        }
      ]
    },
    {
      "cell_type": "markdown",
      "source": [
        " 57. Write a function that extracts uppercase characters from a NumPy array of strings.\n",
        " arr = np.array(['Hello', 'World', 'OpenAI', 'GPT'])\n",
        " arr = np.array(['Hello', 'World', 'OpenAI', 'GPT'])"
      ],
      "metadata": {
        "id": "aFXZM0qNfbZ6"
      }
    },
    {
      "cell_type": "code",
      "source": [
        "import re"
      ],
      "metadata": {
        "id": "PX3TlA56fSbT"
      },
      "execution_count": null,
      "outputs": []
    },
    {
      "cell_type": "code",
      "source": [
        "def uppercase_character(arr):\n",
        "   uppercase_char=[re.findall(r'[A-Z]',s)for s in arr]\n",
        "   uppercase_array=np.array([\"\".join(char)for char in uppercase_char])\n",
        "   return uppercase_array"
      ],
      "metadata": {
        "id": "wHHKHLkofp7f"
      },
      "execution_count": null,
      "outputs": []
    },
    {
      "cell_type": "code",
      "source": [
        "arr=np.array(['Hello', 'World', 'OpenAI', 'GPT'])\n",
        "uppercase=uppercase_character(arr)\n",
        "print(uppercase)"
      ],
      "metadata": {
        "colab": {
          "base_uri": "https://localhost:8080/"
        },
        "id": "2oZSh3Q0mt0U",
        "outputId": "b4f4c92c-5a2e-4c95-cfa3-2a192a576e3e"
      },
      "execution_count": null,
      "outputs": [
        {
          "output_type": "stream",
          "name": "stdout",
          "text": [
            "['H' 'W' 'OAI' 'GPT']\n"
          ]
        }
      ]
    },
    {
      "cell_type": "markdown",
      "source": [
        "58. Write a function that replaces occurrences of a substring in a NumPy array of strings with a new string.\n",
        " arr = np.array(['apple', 'banana', 'grape', 'pineapple'])"
      ],
      "metadata": {
        "id": "OLcl2V_Enw4z"
      }
    },
    {
      "cell_type": "code",
      "source": [
        "def replace_substring(arr,old_substring,new_substring):\n",
        "  return np.char.replace(arr,old_substring,new_substring)"
      ],
      "metadata": {
        "id": "N4m7mfuHmyZo"
      },
      "execution_count": null,
      "outputs": []
    },
    {
      "cell_type": "code",
      "source": [
        "arr = np.array(['apple', 'banana', 'grape', 'pineapple'])\n",
        "new_array=replace_substring(arr,'apple','bangan')\n",
        "print(new_array)"
      ],
      "metadata": {
        "colab": {
          "base_uri": "https://localhost:8080/"
        },
        "id": "V9Q4ssxEswxu",
        "outputId": "2cb78679-8b58-498d-beeb-d7740ee3a3a4"
      },
      "execution_count": null,
      "outputs": [
        {
          "output_type": "stream",
          "name": "stdout",
          "text": [
            "['bangan' 'banana' 'grape' 'pinebangan']\n"
          ]
        }
      ]
    },
    {
      "cell_type": "markdown",
      "source": [
        " 59. Write a function that concatenates strings in a NumPy array element-wise.\n",
        " arr1 = np.array(['Hello', 'World'])\n",
        " arr2 = np.array(['Open', 'AI'])"
      ],
      "metadata": {
        "id": "ahpXivQQs_MC"
      }
    },
    {
      "cell_type": "code",
      "source": [
        "def concatenate_elementwise(arr1,arr2):\n",
        "  return np.char.add(arr1,arr2)"
      ],
      "metadata": {
        "id": "mNw25P0cs99T"
      },
      "execution_count": null,
      "outputs": []
    },
    {
      "cell_type": "code",
      "source": [
        "arr1 = np.array(['Hello', 'World'])\n",
        "arr2 = np.array(['Open', 'AI'])\n",
        "concatenate_elementwise(arr1,arr2)\n"
      ],
      "metadata": {
        "colab": {
          "base_uri": "https://localhost:8080/"
        },
        "id": "nHBCN6nQtSti",
        "outputId": "a3361f1f-12ff-45e4-8068-4f6b3144e186"
      },
      "execution_count": null,
      "outputs": [
        {
          "output_type": "execute_result",
          "data": {
            "text/plain": [
              "array(['HelloOpen', 'WorldAI'], dtype='<U9')"
            ]
          },
          "metadata": {},
          "execution_count": 26
        }
      ]
    },
    {
      "cell_type": "markdown",
      "source": [
        " 60. Write a function that finds the length of the longest string in a NumPy array."
      ],
      "metadata": {
        "id": "jN1fENXFtzYV"
      }
    },
    {
      "cell_type": "code",
      "source": [
        "def longest_string(arr):\n",
        "  lengths=np.char.str_len(arr)\n",
        "  return lengths.max()"
      ],
      "metadata": {
        "id": "oz6uPWg4tZeT"
      },
      "execution_count": null,
      "outputs": []
    },
    {
      "cell_type": "code",
      "source": [
        "arr=np.array(['Hello', 'World', 'OpenAI', 'GPT'])\n",
        "longest_string(arr)"
      ],
      "metadata": {
        "colab": {
          "base_uri": "https://localhost:8080/"
        },
        "id": "6uRvVCYquGEh",
        "outputId": "512b5f7a-c6b0-4ff3-ad3f-7a087d676ba8"
      },
      "execution_count": null,
      "outputs": [
        {
          "output_type": "execute_result",
          "data": {
            "text/plain": [
              "6"
            ]
          },
          "metadata": {},
          "execution_count": 30
        }
      ]
    },
    {
      "cell_type": "markdown",
      "source": [
        " 61. Create a dataset of 100 random integers between 1 and 1000. Compute the mean, median, variance, and\n",
        "standard deviation of the dataset using NumPy's functions."
      ],
      "metadata": {
        "id": "XCLG2rewuciq"
      }
    },
    {
      "cell_type": "code",
      "source": [
        "dataset=np.random.randint(1,100,size=100)"
      ],
      "metadata": {
        "id": "PstV7rGPuL6g"
      },
      "execution_count": null,
      "outputs": []
    },
    {
      "cell_type": "code",
      "source": [
        "mean=np.mean(dataset)\n",
        "median=np.median(dataset)\n",
        "variance=np.var(dataset)\n",
        "std_dev=np.std(dataset)"
      ],
      "metadata": {
        "id": "ADPicN8vurhJ"
      },
      "execution_count": null,
      "outputs": []
    },
    {
      "cell_type": "code",
      "source": [
        "f'mean={mean},median={median},variance={variance},std_dev={std_dev}'"
      ],
      "metadata": {
        "colab": {
          "base_uri": "https://localhost:8080/",
          "height": 35
        },
        "id": "Br-WGWuvu41L",
        "outputId": "c1ccd99a-9e6f-4a85-f22e-53e88ba710a0"
      },
      "execution_count": null,
      "outputs": [
        {
          "output_type": "execute_result",
          "data": {
            "text/plain": [
              "'mean=48.91,median=50.0,variance=920.7619,std_dev=30.344058726544805'"
            ],
            "application/vnd.google.colaboratory.intrinsic+json": {
              "type": "string"
            }
          },
          "metadata": {},
          "execution_count": 38
        }
      ]
    },
    {
      "cell_type": "markdown",
      "source": [
        " 62. Generate an array of 50 random numbers between 1 and 100. Find the 25th and 75th percentiles of the\n",
        "dataset."
      ],
      "metadata": {
        "id": "KKmyoex3vOMm"
      }
    },
    {
      "cell_type": "code",
      "source": [
        "dataset=np.random.randint(1,100,size=50)\n",
        "per_25=np.percentile(dataset,25)\n",
        "per_75=np.percentile(dataset,75)"
      ],
      "metadata": {
        "id": "-02Sx29GvHHv"
      },
      "execution_count": null,
      "outputs": []
    },
    {
      "cell_type": "code",
      "source": [
        "f'25%={per_25},75%={per_75}'"
      ],
      "metadata": {
        "colab": {
          "base_uri": "https://localhost:8080/",
          "height": 35
        },
        "id": "8W2dkDYfvktP",
        "outputId": "d7358fc1-186a-463f-bc7e-5b56dec5ebce"
      },
      "execution_count": null,
      "outputs": [
        {
          "output_type": "execute_result",
          "data": {
            "text/plain": [
              "'25%=27.25,75%=79.0'"
            ],
            "application/vnd.google.colaboratory.intrinsic+json": {
              "type": "string"
            }
          },
          "metadata": {},
          "execution_count": 40
        }
      ]
    },
    {
      "cell_type": "markdown",
      "source": [
        "63. Create two arrays representing two sets of variables. Compute the correlation coefficient between these\n",
        "arrays using NumPy's `corrcoef` function\n",
        "\n"
      ],
      "metadata": {
        "id": "cubW0ZAwvuCr"
      }
    },
    {
      "cell_type": "code",
      "source": [
        "import numpy as np"
      ],
      "metadata": {
        "id": "lwEImCUCvrVV"
      },
      "execution_count": null,
      "outputs": []
    },
    {
      "cell_type": "code",
      "source": [
        "arr1=np.array([1,2,3,4,5])\n",
        "arr2=np.array([5,6,7,8,9])\n",
        "correlation = np.corrcoef(arr1,arr2)\n",
        "correlation_coefficient=correlation[0,1]\n",
        "print(correlation_coefficient)"
      ],
      "metadata": {
        "colab": {
          "base_uri": "https://localhost:8080/"
        },
        "id": "YVjZCz4_0Wls",
        "outputId": "25aae5e7-68a3-42c0-ba87-ff86c124ae26"
      },
      "execution_count": null,
      "outputs": [
        {
          "output_type": "stream",
          "name": "stdout",
          "text": [
            "0.9999999999999999\n"
          ]
        }
      ]
    },
    {
      "cell_type": "markdown",
      "source": [
        "64. Create two matrices and perform matrix multiplication using NumPy's `dot` function"
      ],
      "metadata": {
        "id": "LEgeVQRm2E6d"
      }
    },
    {
      "cell_type": "code",
      "source": [
        "arr1=np.array([[1,2,3],[4,5,6]])\n",
        "arr2=np.array([[7,8],[9,10],[11,12]])\n",
        "dot_product=np.dot(arr1,arr2)\n",
        "print(dot_product)"
      ],
      "metadata": {
        "colab": {
          "base_uri": "https://localhost:8080/"
        },
        "id": "USeAr1iC1gyL",
        "outputId": "61d500e5-8047-42b6-bd22-731e11f3c34f"
      },
      "execution_count": null,
      "outputs": [
        {
          "output_type": "stream",
          "name": "stdout",
          "text": [
            "[[ 58  64]\n",
            " [139 154]]\n"
          ]
        }
      ]
    },
    {
      "cell_type": "markdown",
      "source": [
        " 65. Create an array of 50 integers between 10 and 1000. Calculate the 10th, 50th (median), and 90th\n",
        "percentiles along with the first and third quartiles."
      ],
      "metadata": {
        "id": "gNHY0xmD2uRZ"
      }
    },
    {
      "cell_type": "code",
      "source": [
        "dataset=np.random.randint(10,1000,size=50)\n",
        "pr10=np.percentile(dataset,10)\n",
        "md50=np.percentile(dataset,50)\n",
        "pr90=np.percentile(dataset,90)\n",
        "pr25=np.percentile(dataset,25)\n",
        "pr75=np.percentile(dataset,75)\n",
        "f'percentile 10 = {pr10},median 50 = {md50},percentile 90 = {pr90},first quartile ={pr25}, third quartile={pr75}'"
      ],
      "metadata": {
        "colab": {
          "base_uri": "https://localhost:8080/",
          "height": 52
        },
        "id": "Ldm5jvne2tFt",
        "outputId": "eb666887-f6a0-4a2d-b378-336d2fccc8a5"
      },
      "execution_count": null,
      "outputs": [
        {
          "output_type": "execute_result",
          "data": {
            "text/plain": [
              "'percentile 10 = 104.10000000000001,median 50 = 588.0,percentile 90 = 920.4,first quartile =259.25, third quartile=766.25'"
            ],
            "application/vnd.google.colaboratory.intrinsic+json": {
              "type": "string"
            }
          },
          "metadata": {},
          "execution_count": 6
        }
      ]
    },
    {
      "cell_type": "markdown",
      "source": [
        "66. Create a NumPy array of integers and find the index of a specific element"
      ],
      "metadata": {
        "id": "6Z37n3cJ7kJA"
      }
    },
    {
      "cell_type": "code",
      "source": [
        "arr=np.array([1,2,3,4,5])\n",
        "index_to_find=3\n",
        "index=np.where(arr==index_to_find)[0][0]\n",
        "F'INDEX OF {index_to_find} is = {index}'"
      ],
      "metadata": {
        "colab": {
          "base_uri": "https://localhost:8080/",
          "height": 35
        },
        "id": "iDHds70H7fxt",
        "outputId": "b0c3c900-f0fe-4a21-a543-d813235976f6"
      },
      "execution_count": null,
      "outputs": [
        {
          "output_type": "execute_result",
          "data": {
            "text/plain": [
              "'INDEX OF 3 is = 2'"
            ],
            "application/vnd.google.colaboratory.intrinsic+json": {
              "type": "string"
            }
          },
          "metadata": {},
          "execution_count": 9
        }
      ]
    },
    {
      "cell_type": "code",
      "source": [
        "indices=np.argwhere(arr==index_to_find)"
      ],
      "metadata": {
        "id": "t9U8ztHP8cRg"
      },
      "execution_count": null,
      "outputs": []
    },
    {
      "cell_type": "code",
      "source": [
        "indices\n"
      ],
      "metadata": {
        "colab": {
          "base_uri": "https://localhost:8080/"
        },
        "id": "04IQxKKN9KAF",
        "outputId": "3e92064e-34e8-4ded-c346-0453fde17c8b"
      },
      "execution_count": null,
      "outputs": [
        {
          "output_type": "execute_result",
          "data": {
            "text/plain": [
              "array([[2]])"
            ]
          },
          "metadata": {},
          "execution_count": 11
        }
      ]
    },
    {
      "cell_type": "markdown",
      "source": [
        " 67. Generate a random NumPy array and sort it in ascending order"
      ],
      "metadata": {
        "id": "-DLcdqw49mIn"
      }
    },
    {
      "cell_type": "code",
      "source": [
        "dataset=np.random.randint(1,100,size=10)\n",
        "sorted_array=np.sort(dataset)\n",
        "print(sorted_array)"
      ],
      "metadata": {
        "colab": {
          "base_uri": "https://localhost:8080/"
        },
        "id": "wMr2v4TS9LhV",
        "outputId": "8b4d3b15-c374-4b01-a416-7d77068b476f"
      },
      "execution_count": null,
      "outputs": [
        {
          "output_type": "stream",
          "name": "stdout",
          "text": [
            "[ 1  3 16 45 45 47 52 58 59 85]\n"
          ]
        }
      ]
    },
    {
      "cell_type": "markdown",
      "source": [
        "\n",
        " 68. Filter elements >20  in the given NumPy array.\n",
        " arr = np.array([12, 25, 6, 42, 8, 30])"
      ],
      "metadata": {
        "id": "ZGWQg9OQ-CMj"
      }
    },
    {
      "cell_type": "code",
      "source": [
        " arr = np.array([12, 25, 6, 42, 8, 30])\n",
        " filtered_array=arr[arr>20]\n",
        " print(filtered_array)"
      ],
      "metadata": {
        "colab": {
          "base_uri": "https://localhost:8080/"
        },
        "id": "rCnwOCwD-AKv",
        "outputId": "0d6b4ad4-3e4b-49ba-aa1b-545f5a4b9edc"
      },
      "execution_count": null,
      "outputs": [
        {
          "output_type": "stream",
          "name": "stdout",
          "text": [
            "[25 42 30]\n"
          ]
        }
      ]
    },
    {
      "cell_type": "markdown",
      "source": [
        " 69. Filter elements which are divisible by 3 from a given NumPy array.\n",
        " arr = np.array([1, 5, 8, 12, 15])"
      ],
      "metadata": {
        "id": "1bSY9ep9-XRn"
      }
    },
    {
      "cell_type": "code",
      "source": [
        "arr = np.array([1, 5, 8, 12, 15])\n",
        "filtered=arr[arr%3==0]\n",
        "print(filtered)"
      ],
      "metadata": {
        "colab": {
          "base_uri": "https://localhost:8080/"
        },
        "id": "uf8LWBrI-Vw4",
        "outputId": "a466b936-d413-435f-ae60-03c1e12a87ae"
      },
      "execution_count": null,
      "outputs": [
        {
          "output_type": "stream",
          "name": "stdout",
          "text": [
            "[12 15]\n"
          ]
        }
      ]
    },
    {
      "cell_type": "markdown",
      "source": [
        " 70. Filter elements which are ≥ 20 and ≤ 40 from a given NumPy array.\n",
        " arr = np.array([10, 20, 30, 40, 50])"
      ],
      "metadata": {
        "id": "dNXWXB9Y-kur"
      }
    },
    {
      "cell_type": "code",
      "source": [
        " arr = np.array([10, 20, 30, 40, 50])\n",
        " filtered=arr[(arr>=20)&(arr<=40)]\n",
        " print(filtered)"
      ],
      "metadata": {
        "colab": {
          "base_uri": "https://localhost:8080/"
        },
        "id": "ahUjXxqp-iWc",
        "outputId": "724c1ab2-d9fd-4ebc-fe4f-df2740402019"
      },
      "execution_count": null,
      "outputs": [
        {
          "output_type": "stream",
          "name": "stdout",
          "text": [
            "[20 30 40]\n"
          ]
        }
      ]
    },
    {
      "cell_type": "markdown",
      "source": [
        " 71. For the given NumPy array, check its byte order using the `dtype` attribute byteorder.\n",
        " arr = np.array([1, 2, 3])\n"
      ],
      "metadata": {
        "id": "yE_IXzgM-2r7"
      }
    },
    {
      "cell_type": "code",
      "source": [
        "arr=np.array([1, 2, 3])\n",
        "byte_order=arr.dtype.byteorder\n",
        "print(byte_order)\n"
      ],
      "metadata": {
        "colab": {
          "base_uri": "https://localhost:8080/"
        },
        "id": "-9LaG89M-1Qa",
        "outputId": "ed46a1f5-a00d-4a18-8ee1-4731d9d838fd"
      },
      "execution_count": null,
      "outputs": [
        {
          "output_type": "stream",
          "name": "stdout",
          "text": [
            "=\n"
          ]
        }
      ]
    },
    {
      "cell_type": "markdown",
      "source": [
        "72. For the given NumPy array, perform byte swapping in place using `byteswap()`.\n",
        " arr = np.array([1, 2, 3], dtype=np.int32)"
      ],
      "metadata": {
        "id": "KbzpSwAL_WCX"
      }
    },
    {
      "cell_type": "code",
      "source": [
        "arr = np.array([1, 2, 3], dtype=np.int32)\n",
        "arr.byteswap(inplace=True)\n",
        "print(arr)\n"
      ],
      "metadata": {
        "colab": {
          "base_uri": "https://localhost:8080/"
        },
        "id": "Mw5D7vor_Kpg",
        "outputId": "bdd2a079-1200-4148-bb7c-1a12cc9eb442"
      },
      "execution_count": null,
      "outputs": [
        {
          "output_type": "stream",
          "name": "stdout",
          "text": [
            "[16777216 33554432 50331648]\n"
          ]
        }
      ]
    },
    {
      "cell_type": "markdown",
      "source": [
        " 73. For the given NumPy array, swap its byte order without modifying the original array using\n",
        "`newbyteorder()`.\n",
        " arr = np.array([1, 2, 3], dtype=np.int32)"
      ],
      "metadata": {
        "id": "_w3MmbQIzw0_"
      }
    },
    {
      "cell_type": "code",
      "source": [
        "import numpy as np\n",
        "arr = np.array([1, 2, 3], dtype=np.int32)\n",
        "new_array=arr.astype(arr.dtype.newbyteorder())\n",
        "print(new_array)\n",
        "print(arr)"
      ],
      "metadata": {
        "id": "mWejuU-0_zmF",
        "colab": {
          "base_uri": "https://localhost:8080/"
        },
        "outputId": "4b59ef8e-e863-409b-9c98-ff3534da81da"
      },
      "execution_count": null,
      "outputs": [
        {
          "output_type": "stream",
          "name": "stdout",
          "text": [
            "[1 2 3]\n",
            "[1 2 3]\n"
          ]
        }
      ]
    },
    {
      "cell_type": "markdown",
      "source": [
        " 74. For the given NumPy array and swap its byte order conditionally based on system endianness using\n",
        "`newbyteorder()`.\n",
        " arr = np.array([1, 2, 3], dtype=np.int32)"
      ],
      "metadata": {
        "id": "jy98H2Zc033K"
      }
    },
    {
      "cell_type": "code",
      "source": [
        "import sys\n",
        "arr = np.array([1, 2, 3], dtype=np.int32)\n",
        "if sys.byteorder=='little':\n",
        "  new_array=arr.astype(arr.dtype.newbyteorder('>'))\n",
        "else:\n",
        "  new_array=arr.astype(arr.dtype.newbyteorder('<'))\n",
        "print(new_array)\n",
        "print(arr)\n",
        "\n"
      ],
      "metadata": {
        "colab": {
          "base_uri": "https://localhost:8080/"
        },
        "id": "nyj9Fyto0qQ-",
        "outputId": "18c597c6-fadb-400f-f4b9-8bc0243f5080"
      },
      "execution_count": null,
      "outputs": [
        {
          "output_type": "stream",
          "name": "stdout",
          "text": [
            "[1 2 3]\n",
            "[1 2 3]\n"
          ]
        }
      ]
    },
    {
      "cell_type": "markdown",
      "source": [
        " 75. For the given NumPy array, check if byte swapping is necessary for the current system using `dtype`\n",
        "attribute `byteorder`.\n",
        " arr = np.array([1, 2, 3], dtype=np.int32)"
      ],
      "metadata": {
        "id": "d88USl6q2Ie-"
      }
    },
    {
      "cell_type": "code",
      "source": [
        "arr = np.array([1, 2, 3], dtype=np.int32)\n",
        "if arr.dtype.byteorder=='=':\n",
        "  if sys.byteorder=='little':\n",
        "    byte_swapping_needed=False\n",
        "  else:\n",
        "    byte_swapping_needed=True\n",
        "else:\n",
        "  byte_swapping_needed=True\n",
        "print(f'byte swapping needed={byte_swapping_needed}')"
      ],
      "metadata": {
        "colab": {
          "base_uri": "https://localhost:8080/"
        },
        "id": "7hgYgsTZ1pVS",
        "outputId": "acefe0ca-4b8e-4678-9ca5-840d029f16bc"
      },
      "execution_count": null,
      "outputs": [
        {
          "output_type": "stream",
          "name": "stdout",
          "text": [
            "byte swapping needed=False\n"
          ]
        }
      ]
    },
    {
      "cell_type": "markdown",
      "source": [
        " 76. Create a NumPy array `arr1` with values from 1 to 10. Create a copy of `arr1` named `copy_arr` and modify\n",
        "an element in `copy_arr`. Check if modifying `copy_arr` affects `arr1`."
      ],
      "metadata": {
        "id": "HlA22QMx32Ms"
      }
    },
    {
      "cell_type": "code",
      "source": [
        "arr=np.arange(1,11)\n",
        "copy_arr=arr.copy()\n",
        "copy_arr[0]=100\n",
        "print(arr)\n",
        "print(copy_arr)"
      ],
      "metadata": {
        "colab": {
          "base_uri": "https://localhost:8080/"
        },
        "id": "00LopCiv3dU0",
        "outputId": "bb5d3f4b-2e48-4841-e3dc-580810b33e9e"
      },
      "execution_count": null,
      "outputs": [
        {
          "output_type": "stream",
          "name": "stdout",
          "text": [
            "[ 1  2  3  4  5  6  7  8  9 10]\n",
            "[100   2   3   4   5   6   7   8   9  10]\n"
          ]
        }
      ]
    },
    {
      "cell_type": "markdown",
      "source": [
        " 77. Create a 2D NumPy array `matrix` of shape (3, 3) with random integers. Extract a slice `view_slice` from\n",
        "the matrix. Modify an element in `view_slice` and observe if it changes the original `matrix`"
      ],
      "metadata": {
        "id": "McO3pp1N4sOG"
      }
    },
    {
      "cell_type": "code",
      "source": [
        "arr=np.random.randint(1,10,size=(3,3))\n",
        "view_slice=arr[1:,:2]\n",
        "view_slice[0,0]=100\n",
        "print(arr)\n",
        "print(view_slice)"
      ],
      "metadata": {
        "colab": {
          "base_uri": "https://localhost:8080/"
        },
        "id": "7dJ_gWG13yHK",
        "outputId": "1f1e9d47-ac59-4f6d-b35a-02c33f37ff80"
      },
      "execution_count": null,
      "outputs": [
        {
          "output_type": "stream",
          "name": "stdout",
          "text": [
            "[[  3   3   7]\n",
            " [100   8   2]\n",
            " [  6   5   4]]\n",
            "[[100   8]\n",
            " [  6   5]]\n"
          ]
        }
      ]
    },
    {
      "cell_type": "markdown",
      "source": [
        "78. Create a NumPy array `array_a` of shape (4, 3) with sequential integers from 1 to 12. Extract a slice\n",
        "`view_b` from `array_a` and broadcast the addition of 5 to view_b. Check if it alters the original `array_a`."
      ],
      "metadata": {
        "id": "juyuUCFj5gdc"
      }
    },
    {
      "cell_type": "code",
      "source": [
        "arr=np.arange(1,13).reshape(4,3)\n",
        "view_b=arr[1:3,0:2]\n",
        "view_b +=5\n",
        "print(arr)\n",
        "print(view_b)"
      ],
      "metadata": {
        "colab": {
          "base_uri": "https://localhost:8080/"
        },
        "id": "kAc9rnn05ONq",
        "outputId": "b2ed6249-fbb7-4c87-dc22-68f7414355e6"
      },
      "execution_count": null,
      "outputs": [
        {
          "output_type": "stream",
          "name": "stdout",
          "text": [
            "[[ 1  2  3]\n",
            " [ 9 10  6]\n",
            " [12 13  9]\n",
            " [10 11 12]]\n",
            "[[ 9 10]\n",
            " [12 13]]\n"
          ]
        }
      ]
    },
    {
      "cell_type": "markdown",
      "source": [
        " 79. Create a NumPy array `orig_array` of shape (2, 4) with values from 1 to 8. Create a reshaped view\n",
        "`reshaped_view` of shape (4, 2) from orig_array. Modify an element in `reshaped_view` and check if it\n",
        "reflects changes in the original `orig_array`."
      ],
      "metadata": {
        "id": "MDEPETwyAFw0"
      }
    },
    {
      "cell_type": "code",
      "source": [
        "orgin_array=np.arange(1,9).reshape(2,4)\n",
        "view_reshaped_array=orgin_array.reshape(4,2)\n",
        "view_reshaped_array[0,0]=100\n",
        "print(orgin_array)\n",
        "print(view_reshaped_array)"
      ],
      "metadata": {
        "colab": {
          "base_uri": "https://localhost:8080/"
        },
        "id": "j3CQRCpmDOW2",
        "outputId": "0872d7a0-4d00-4af1-bf64-adef2150190f"
      },
      "execution_count": null,
      "outputs": [
        {
          "output_type": "stream",
          "name": "stdout",
          "text": [
            "[[100   2   3   4]\n",
            " [  5   6   7   8]]\n",
            "[[100   2]\n",
            " [  3   4]\n",
            " [  5   6]\n",
            " [  7   8]]\n"
          ]
        }
      ]
    },
    {
      "cell_type": "markdown",
      "source": [
        " 80. Create a NumPy array `data` of shape (3, 4) with random integers. Extract a copy `data_copy` of\n",
        "elements greater than 5. Modify an element in `data_copy` and verify if it affects the original `data`."
      ],
      "metadata": {
        "id": "-JDAbbPoDqOw"
      }
    },
    {
      "cell_type": "code",
      "source": [
        "arr=np.random.randint(1,10,size=(3,4))\n",
        "data_copy=arr[arr>5].copy()\n",
        "data_copy[0]=100\n",
        "print(arr)\n",
        "print(data_copy)"
      ],
      "metadata": {
        "colab": {
          "base_uri": "https://localhost:8080/"
        },
        "id": "WZUIQPU_DBo2",
        "outputId": "46fa7285-12b5-4156-bfd8-f487d638ee78"
      },
      "execution_count": null,
      "outputs": [
        {
          "output_type": "stream",
          "name": "stdout",
          "text": [
            "[[7 3 3 6]\n",
            " [2 2 8 9]\n",
            " [6 9 5 8]]\n",
            "[100   6   8   9   6   9   8]\n"
          ]
        }
      ]
    },
    {
      "cell_type": "markdown",
      "source": [
        " 81. Create two matrices A and B of identical shape containing integers and perform addition and subtraction\n",
        "operations between them?"
      ],
      "metadata": {
        "id": "PMcgBnB8EJio"
      }
    },
    {
      "cell_type": "code",
      "source": [
        "a=np.random.randint(1,10,size=(3,3))\n",
        "b=np.random.randint(1,10,size=(3,3))\n",
        "add=a+b\n",
        "sub=a-b\n",
        "print(add)\n",
        "print(sub)"
      ],
      "metadata": {
        "colab": {
          "base_uri": "https://localhost:8080/"
        },
        "id": "vLVaSU6kEFCh",
        "outputId": "22459075-3e9f-4ad3-810d-8ff569d0e5c5"
      },
      "execution_count": null,
      "outputs": [
        {
          "output_type": "stream",
          "name": "stdout",
          "text": [
            "[[16 13  9]\n",
            " [ 8 13 17]\n",
            " [ 7  9  8]]\n",
            "[[ 2  3 -5]\n",
            " [-2  5 -1]\n",
            " [ 5 -5  6]]\n"
          ]
        }
      ]
    },
    {
      "cell_type": "markdown",
      "source": [
        " 82. Generate two matrices `C` (3x2) and `D` (2x4) and perform matrix multiplication"
      ],
      "metadata": {
        "id": "suSY6bsdEnYH"
      }
    },
    {
      "cell_type": "code",
      "source": [
        "c=np.random.randint(1,10,size=(3,2))\n",
        "d=np.random.randint(1,10,size=(2,4))\n",
        "mul=np.dot(c,d)\n",
        "print(mul)"
      ],
      "metadata": {
        "colab": {
          "base_uri": "https://localhost:8080/"
        },
        "id": "mglfSzoaEmKg",
        "outputId": "1f286eec-459e-4aca-da93-71952e2f88ca"
      },
      "execution_count": null,
      "outputs": [
        {
          "output_type": "stream",
          "name": "stdout",
          "text": [
            "[[28 31 11 33]\n",
            " [28 46 17 30]\n",
            " [56 82 30 62]]\n"
          ]
        }
      ]
    },
    {
      "cell_type": "markdown",
      "source": [
        " 83. Create a matrix `E` and find its transpose"
      ],
      "metadata": {
        "id": "THUVBdsSE9G-"
      }
    },
    {
      "cell_type": "code",
      "source": [
        "e=np.random.randint(1,10,size=(2,4))\n",
        "trans=e.T"
      ],
      "metadata": {
        "id": "K9mbb6qlE4rR"
      },
      "execution_count": null,
      "outputs": []
    },
    {
      "cell_type": "code",
      "source": [
        "trans"
      ],
      "metadata": {
        "colab": {
          "base_uri": "https://localhost:8080/"
        },
        "id": "GhmpTeUIFEDt",
        "outputId": "e427f0ac-d4df-4bb9-ccf7-5d4593198a99"
      },
      "execution_count": null,
      "outputs": [
        {
          "output_type": "execute_result",
          "data": {
            "text/plain": [
              "array([[9, 2],\n",
              "       [6, 7],\n",
              "       [8, 6],\n",
              "       [6, 7]])"
            ]
          },
          "metadata": {},
          "execution_count": 33
        }
      ]
    },
    {
      "cell_type": "code",
      "source": [
        "trans.shape"
      ],
      "metadata": {
        "colab": {
          "base_uri": "https://localhost:8080/"
        },
        "id": "i9HpuaHqFFE-",
        "outputId": "9fd80eaa-7d92-4d61-d6cc-0a9c794c2e4e"
      },
      "execution_count": null,
      "outputs": [
        {
          "output_type": "execute_result",
          "data": {
            "text/plain": [
              "(4, 2)"
            ]
          },
          "metadata": {},
          "execution_count": 35
        }
      ]
    },
    {
      "cell_type": "markdown",
      "source": [
        " 84. Generate a square matrix `F` and compute its determinant"
      ],
      "metadata": {
        "id": "tbikzbkrFM_A"
      }
    },
    {
      "cell_type": "code",
      "source": [
        "e=np.random.randint(1,10,size=(2,2))\n",
        "determinant=np.linalg.det(e)\n",
        "print(determinant)"
      ],
      "metadata": {
        "colab": {
          "base_uri": "https://localhost:8080/"
        },
        "id": "-MVWjWIIFK3u",
        "outputId": "8238fbfb-57ab-4526-a9b6-665fa696f242"
      },
      "execution_count": null,
      "outputs": [
        {
          "output_type": "stream",
          "name": "stdout",
          "text": [
            "-22.000000000000004\n"
          ]
        }
      ]
    },
    {
      "cell_type": "markdown",
      "source": [
        " 85. Create a square matrix `G` and find its inverse"
      ],
      "metadata": {
        "id": "95pJSRD-FiLl"
      }
    },
    {
      "cell_type": "code",
      "source": [
        "G=np.random.randint(1,10,size=(2,2))\n",
        "inverse=np.linalg.inv(G)\n",
        "print(inverse)"
      ],
      "metadata": {
        "colab": {
          "base_uri": "https://localhost:8080/"
        },
        "id": "COrnz-9jFUpP",
        "outputId": "1d5360d3-5918-4d93-949a-83410b1fefa3"
      },
      "execution_count": null,
      "outputs": [
        {
          "output_type": "stream",
          "name": "stdout",
          "text": [
            "[[ 0.27272727 -0.18181818]\n",
            " [-0.09090909  0.22727273]]\n"
          ]
        }
      ]
    },
    {
      "cell_type": "code",
      "source": [],
      "metadata": {
        "id": "X0WmygC-FrrN"
      },
      "execution_count": null,
      "outputs": []
    }
  ]
}